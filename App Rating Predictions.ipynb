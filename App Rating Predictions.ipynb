{
 "cells": [
  {
   "cell_type": "markdown",
   "id": "da053b07",
   "metadata": {},
   "source": [
    "# App Rating Prediction"
   ]
  },
  {
   "cell_type": "markdown",
   "id": "63fac757",
   "metadata": {},
   "source": [
    "##  DESCRIPTION\n"
   ]
  },
  {
   "cell_type": "markdown",
   "id": "85819335",
   "metadata": {},
   "source": [
    "**Objective:** Develop a model to predict the rating for an app.\n",
    "\n",
    "**Problem Statement:**\n",
    "Google Play Store team is launching a new feature. The feature is intended to boost the visibility of those apps that are promising. The boost will manifest in multiple ways including higher priority in the recommendations sections (\"Similar apps\", \"You might also like\", \"New and updated games\"). The apps will also get a boost in visibility thru the search results.  The new feature will highlight newer apps that show a great deal of potential.\n",
    "\n",
    "**Analysis:**\n",
    "Identify the apps that will be featured and promoted by Google. An app's rating is a strong indicator of the goodness of the app. The goal is to predict which app's will have high ratings."
   ]
  },
  {
   "cell_type": "markdown",
   "id": "fe29023a",
   "metadata": {},
   "source": [
    "#  Data Collection"
   ]
  },
  {
   "cell_type": "markdown",
   "id": "489f0817",
   "metadata": {
    "hide_input": true
   },
   "source": [
    "## Initialize environment/import libraries/import data"
   ]
  },
  {
   "cell_type": "code",
   "execution_count": 1,
   "id": "0163ecf9",
   "metadata": {
    "hide_input": false,
    "scrolled": false
   },
   "outputs": [],
   "source": [
    "import pandas as pd\n",
    "import numpy as np\n",
    "import seaborn as sns\n",
    "import matplotlib.pyplot as plt\n",
    "\n",
    "from matplotlib.cbook import boxplot_stats\n",
    "\n",
    "from sklearn import preprocessing\n",
    "from sklearn.model_selection import train_test_split\n",
    "from sklearn.metrics import r2_score\n",
    "from sklearn.linear_model import LinearRegression\n",
    "\n",
    "from termcolor import colored\n",
    "\n",
    "%matplotlib inline\n",
    "\n",
    "import warnings\n",
    "warnings.filterwarnings('ignore')"
   ]
  },
  {
   "cell_type": "code",
   "execution_count": 2,
   "id": "502688fb",
   "metadata": {
    "hide_input": false,
    "scrolled": false
   },
   "outputs": [],
   "source": [
    "#Read in the data table\n",
    "df_apps = pd.read_csv('/Users/samiai.masri/Documents/MastersProgram/6_Python/Project/googleplaystore.csv')"
   ]
  },
  {
   "cell_type": "code",
   "execution_count": 3,
   "id": "92a630cf",
   "metadata": {
    "scrolled": false
   },
   "outputs": [
    {
     "data": {
      "text/html": [
       "<div>\n",
       "<style scoped>\n",
       "    .dataframe tbody tr th:only-of-type {\n",
       "        vertical-align: middle;\n",
       "    }\n",
       "\n",
       "    .dataframe tbody tr th {\n",
       "        vertical-align: top;\n",
       "    }\n",
       "\n",
       "    .dataframe thead th {\n",
       "        text-align: right;\n",
       "    }\n",
       "</style>\n",
       "<table border=\"1\" class=\"dataframe\">\n",
       "  <thead>\n",
       "    <tr style=\"text-align: right;\">\n",
       "      <th></th>\n",
       "      <th>App</th>\n",
       "      <th>Category</th>\n",
       "      <th>Rating</th>\n",
       "      <th>Reviews</th>\n",
       "      <th>Size</th>\n",
       "      <th>Installs</th>\n",
       "      <th>Type</th>\n",
       "      <th>Price</th>\n",
       "      <th>Content Rating</th>\n",
       "      <th>Genres</th>\n",
       "      <th>Last Updated</th>\n",
       "      <th>Current Ver</th>\n",
       "      <th>Android Ver</th>\n",
       "    </tr>\n",
       "  </thead>\n",
       "  <tbody>\n",
       "    <tr>\n",
       "      <th>0</th>\n",
       "      <td>Photo Editor &amp; Candy Camera &amp; Grid &amp; ScrapBook</td>\n",
       "      <td>ART_AND_DESIGN</td>\n",
       "      <td>4.1</td>\n",
       "      <td>159</td>\n",
       "      <td>19M</td>\n",
       "      <td>10,000+</td>\n",
       "      <td>Free</td>\n",
       "      <td>0</td>\n",
       "      <td>Everyone</td>\n",
       "      <td>Art &amp; Design</td>\n",
       "      <td>January 7, 2018</td>\n",
       "      <td>1.0.0</td>\n",
       "      <td>4.0.3 and up</td>\n",
       "    </tr>\n",
       "    <tr>\n",
       "      <th>1</th>\n",
       "      <td>Coloring book moana</td>\n",
       "      <td>ART_AND_DESIGN</td>\n",
       "      <td>3.9</td>\n",
       "      <td>967</td>\n",
       "      <td>14M</td>\n",
       "      <td>500,000+</td>\n",
       "      <td>Free</td>\n",
       "      <td>0</td>\n",
       "      <td>Everyone</td>\n",
       "      <td>Art &amp; Design;Pretend Play</td>\n",
       "      <td>January 15, 2018</td>\n",
       "      <td>2.0.0</td>\n",
       "      <td>4.0.3 and up</td>\n",
       "    </tr>\n",
       "  </tbody>\n",
       "</table>\n",
       "</div>"
      ],
      "text/plain": [
       "                                              App        Category  Rating  \\\n",
       "0  Photo Editor & Candy Camera & Grid & ScrapBook  ART_AND_DESIGN     4.1   \n",
       "1                             Coloring book moana  ART_AND_DESIGN     3.9   \n",
       "\n",
       "  Reviews Size  Installs  Type Price Content Rating  \\\n",
       "0     159  19M   10,000+  Free     0       Everyone   \n",
       "1     967  14M  500,000+  Free     0       Everyone   \n",
       "\n",
       "                      Genres      Last Updated Current Ver   Android Ver  \n",
       "0               Art & Design   January 7, 2018       1.0.0  4.0.3 and up  \n",
       "1  Art & Design;Pretend Play  January 15, 2018       2.0.0  4.0.3 and up  "
      ]
     },
     "execution_count": 3,
     "metadata": {},
     "output_type": "execute_result"
    }
   ],
   "source": [
    "#Sample the dataframe\n",
    "df_apps.head(2)"
   ]
  },
  {
   "cell_type": "markdown",
   "id": "c712ffe6",
   "metadata": {},
   "source": [
    "# Data specification"
   ]
  },
  {
   "cell_type": "code",
   "execution_count": 4,
   "id": "19b08669",
   "metadata": {},
   "outputs": [],
   "source": [
    "#Variable:         Description\n",
    "\n",
    "#App:              Application name\n",
    "#Category:         Category to which the app belongs \n",
    "#Rating:           Overall user rating of the app\n",
    "#Reviews:          Number of user reviews for the app\n",
    "#Size:             Size of the app\n",
    "#Installs:         Number of user downloads/installs for the app\n",
    "#Type:             Paid or Free\n",
    "#Price:            Price of the app\n",
    "#Content Rating:   Age group the app is targeted at - Children / Mature 21+ / Adult\n",
    "#Genres:           An app's composition/content (app's can belong to multiple genres \n",
    "#Last Updated:     Date when the app was last updated on Play Store\n",
    "#Current Ver:      Current version of the app available on Play Store\n",
    "#Android Ver:      Minimum required Android version"
   ]
  },
  {
   "cell_type": "markdown",
   "id": "faa9ef63",
   "metadata": {},
   "source": [
    "# Dataframe structure"
   ]
  },
  {
   "cell_type": "code",
   "execution_count": 5,
   "id": "a7b133cf",
   "metadata": {
    "scrolled": false
   },
   "outputs": [
    {
     "name": "stdout",
     "output_type": "stream",
     "text": [
      "<class 'pandas.core.frame.DataFrame'>\n",
      "RangeIndex: 10841 entries, 0 to 10840\n",
      "Data columns (total 13 columns):\n",
      " #   Column          Non-Null Count  Dtype  \n",
      "---  ------          --------------  -----  \n",
      " 0   App             10841 non-null  object \n",
      " 1   Category        10841 non-null  object \n",
      " 2   Rating          9367 non-null   float64\n",
      " 3   Reviews         10841 non-null  object \n",
      " 4   Size            10841 non-null  object \n",
      " 5   Installs        10841 non-null  object \n",
      " 6   Type            10840 non-null  object \n",
      " 7   Price           10841 non-null  object \n",
      " 8   Content Rating  10840 non-null  object \n",
      " 9   Genres          10841 non-null  object \n",
      " 10  Last Updated    10841 non-null  object \n",
      " 11  Current Ver     10833 non-null  object \n",
      " 12  Android Ver     10838 non-null  object \n",
      "dtypes: float64(1), object(12)\n",
      "memory usage: 1.1+ MB\n"
     ]
    }
   ],
   "source": [
    "df_apps.info()"
   ]
  },
  {
   "cell_type": "markdown",
   "id": "a6fbde53",
   "metadata": {},
   "source": [
    "# Missing values "
   ]
  },
  {
   "cell_type": "code",
   "execution_count": 6,
   "id": "2f754fa2",
   "metadata": {},
   "outputs": [
    {
     "name": "stdout",
     "output_type": "stream",
     "text": [
      "Rating            1474\n",
      "Type                 1\n",
      "Content Rating       1\n",
      "Current Ver          8\n",
      "Android Ver          3\n",
      "dtype: int64\n"
     ]
    }
   ],
   "source": [
    "missing = df_apps.isnull().sum()\n",
    "missing = missing[missing > 0]\n",
    "print(missing)"
   ]
  },
  {
   "cell_type": "code",
   "execution_count": 7,
   "id": "f5669e8b",
   "metadata": {
    "scrolled": false
   },
   "outputs": [
    {
     "data": {
      "text/plain": [
       "(10841, 13)"
      ]
     },
     "execution_count": 7,
     "metadata": {},
     "output_type": "execute_result"
    }
   ],
   "source": [
    "df_apps.shape"
   ]
  },
  {
   "cell_type": "code",
   "execution_count": 8,
   "id": "f6136bfe",
   "metadata": {
    "scrolled": false
   },
   "outputs": [],
   "source": [
    "#Drop rows with nulls in any columns\n",
    "df_apps.dropna(axis=0, inplace = True)\n",
    "\n",
    "#Reset the index since we dropped rows\n",
    "df_apps.reset_index(drop=True,inplace=True)"
   ]
  },
  {
   "cell_type": "code",
   "execution_count": 9,
   "id": "3b33bb4b",
   "metadata": {
    "scrolled": false
   },
   "outputs": [
    {
     "data": {
      "text/plain": [
       "(9360, 13)"
      ]
     },
     "execution_count": 9,
     "metadata": {},
     "output_type": "execute_result"
    }
   ],
   "source": [
    "df_apps.shape"
   ]
  },
  {
   "cell_type": "markdown",
   "id": "a27d21a7",
   "metadata": {},
   "source": [
    "# Format Features"
   ]
  },
  {
   "cell_type": "markdown",
   "id": "2aea89a3",
   "metadata": {},
   "source": [
    "## Size feature"
   ]
  },
  {
   "cell_type": "code",
   "execution_count": 10,
   "id": "495d6b61",
   "metadata": {
    "scrolled": false
   },
   "outputs": [
    {
     "data": {
      "text/plain": [
       "str"
      ]
     },
     "execution_count": 10,
     "metadata": {},
     "output_type": "execute_result"
    }
   ],
   "source": [
    "#The 'Size' column has sizes in Kb as well as Mb. To analyze, convert these to numeric.\n",
    "type('Size')"
   ]
  },
  {
   "cell_type": "code",
   "execution_count": 11,
   "id": "b3f5b27a",
   "metadata": {
    "scrolled": false
   },
   "outputs": [
    {
     "data": {
      "text/plain": [
       "Varies with device    1637\n",
       "14M                    165\n",
       "12M                    161\n",
       "11M                    159\n",
       "15M                    159\n",
       "Name: Size, dtype: int64"
      ]
     },
     "execution_count": 11,
     "metadata": {},
     "output_type": "execute_result"
    }
   ],
   "source": [
    "df_apps['Size'].value_counts().head()"
   ]
  },
  {
   "cell_type": "code",
   "execution_count": 12,
   "id": "9093e0e2",
   "metadata": {
    "scrolled": false
   },
   "outputs": [],
   "source": [
    "#Varies with device is not a valid value for 'Size' feature.  Drop these records.\n",
    "df_apps.drop(df_apps[df_apps['Size'] == 'Varies with device'].index, inplace = True)"
   ]
  },
  {
   "cell_type": "code",
   "execution_count": 13,
   "id": "4db18d46",
   "metadata": {
    "scrolled": false
   },
   "outputs": [
    {
     "data": {
      "text/plain": [
       "(7723, 13)"
      ]
     },
     "execution_count": 13,
     "metadata": {},
     "output_type": "execute_result"
    }
   ],
   "source": [
    "df_apps.shape"
   ]
  },
  {
   "cell_type": "code",
   "execution_count": 14,
   "id": "ad38a35e",
   "metadata": {
    "scrolled": true
   },
   "outputs": [
    {
     "data": {
      "text/html": [
       "<div>\n",
       "<style scoped>\n",
       "    .dataframe tbody tr th:only-of-type {\n",
       "        vertical-align: middle;\n",
       "    }\n",
       "\n",
       "    .dataframe tbody tr th {\n",
       "        vertical-align: top;\n",
       "    }\n",
       "\n",
       "    .dataframe thead th {\n",
       "        text-align: right;\n",
       "    }\n",
       "</style>\n",
       "<table border=\"1\" class=\"dataframe\">\n",
       "  <thead>\n",
       "    <tr style=\"text-align: right;\">\n",
       "      <th></th>\n",
       "      <th>App</th>\n",
       "      <th>Category</th>\n",
       "      <th>Rating</th>\n",
       "      <th>Reviews</th>\n",
       "      <th>Size</th>\n",
       "      <th>Installs</th>\n",
       "      <th>Type</th>\n",
       "      <th>Price</th>\n",
       "      <th>Content Rating</th>\n",
       "      <th>Genres</th>\n",
       "      <th>Last Updated</th>\n",
       "      <th>Current Ver</th>\n",
       "      <th>Android Ver</th>\n",
       "      <th>Size_Num</th>\n",
       "    </tr>\n",
       "  </thead>\n",
       "  <tbody>\n",
       "    <tr>\n",
       "      <th>0</th>\n",
       "      <td>Photo Editor &amp; Candy Camera &amp; Grid &amp; ScrapBook</td>\n",
       "      <td>ART_AND_DESIGN</td>\n",
       "      <td>4.1</td>\n",
       "      <td>159</td>\n",
       "      <td>19M</td>\n",
       "      <td>10,000+</td>\n",
       "      <td>Free</td>\n",
       "      <td>0</td>\n",
       "      <td>Everyone</td>\n",
       "      <td>Art &amp; Design</td>\n",
       "      <td>January 7, 2018</td>\n",
       "      <td>1.0.0</td>\n",
       "      <td>4.0.3 and up</td>\n",
       "      <td>19</td>\n",
       "    </tr>\n",
       "    <tr>\n",
       "      <th>1</th>\n",
       "      <td>Coloring book moana</td>\n",
       "      <td>ART_AND_DESIGN</td>\n",
       "      <td>3.9</td>\n",
       "      <td>967</td>\n",
       "      <td>14M</td>\n",
       "      <td>500,000+</td>\n",
       "      <td>Free</td>\n",
       "      <td>0</td>\n",
       "      <td>Everyone</td>\n",
       "      <td>Art &amp; Design;Pretend Play</td>\n",
       "      <td>January 15, 2018</td>\n",
       "      <td>2.0.0</td>\n",
       "      <td>4.0.3 and up</td>\n",
       "      <td>14</td>\n",
       "    </tr>\n",
       "  </tbody>\n",
       "</table>\n",
       "</div>"
      ],
      "text/plain": [
       "                                              App        Category  Rating  \\\n",
       "0  Photo Editor & Candy Camera & Grid & ScrapBook  ART_AND_DESIGN     4.1   \n",
       "1                             Coloring book moana  ART_AND_DESIGN     3.9   \n",
       "\n",
       "  Reviews Size  Installs  Type Price Content Rating  \\\n",
       "0     159  19M   10,000+  Free     0       Everyone   \n",
       "1     967  14M  500,000+  Free     0       Everyone   \n",
       "\n",
       "                      Genres      Last Updated Current Ver   Android Ver  \\\n",
       "0               Art & Design   January 7, 2018       1.0.0  4.0.3 and up   \n",
       "1  Art & Design;Pretend Play  January 15, 2018       2.0.0  4.0.3 and up   \n",
       "\n",
       "  Size_Num  \n",
       "0       19  \n",
       "1       14  "
      ]
     },
     "execution_count": 14,
     "metadata": {},
     "output_type": "execute_result"
    }
   ],
   "source": [
    "#Extract numeric value from 'Size' column\n",
    "df_apps[\"Size_Num\"] = df_apps[\"Size\"].str[:-1]  #We drop (slice off) the 'M' or 'k' from end of the string\n",
    "df_apps.head(2)"
   ]
  },
  {
   "cell_type": "code",
   "execution_count": 15,
   "id": "961bcb3a",
   "metadata": {
    "scrolled": false
   },
   "outputs": [
    {
     "data": {
      "text/html": [
       "<div>\n",
       "<style scoped>\n",
       "    .dataframe tbody tr th:only-of-type {\n",
       "        vertical-align: middle;\n",
       "    }\n",
       "\n",
       "    .dataframe tbody tr th {\n",
       "        vertical-align: top;\n",
       "    }\n",
       "\n",
       "    .dataframe thead th {\n",
       "        text-align: right;\n",
       "    }\n",
       "</style>\n",
       "<table border=\"1\" class=\"dataframe\">\n",
       "  <thead>\n",
       "    <tr style=\"text-align: right;\">\n",
       "      <th></th>\n",
       "      <th>App</th>\n",
       "      <th>Category</th>\n",
       "      <th>Rating</th>\n",
       "      <th>Reviews</th>\n",
       "      <th>Size</th>\n",
       "      <th>Installs</th>\n",
       "      <th>Type</th>\n",
       "      <th>Price</th>\n",
       "      <th>Content Rating</th>\n",
       "      <th>Genres</th>\n",
       "      <th>Last Updated</th>\n",
       "      <th>Current Ver</th>\n",
       "      <th>Android Ver</th>\n",
       "      <th>Size_Num</th>\n",
       "      <th>Size_Type</th>\n",
       "    </tr>\n",
       "  </thead>\n",
       "  <tbody>\n",
       "    <tr>\n",
       "      <th>0</th>\n",
       "      <td>Photo Editor &amp; Candy Camera &amp; Grid &amp; ScrapBook</td>\n",
       "      <td>ART_AND_DESIGN</td>\n",
       "      <td>4.1</td>\n",
       "      <td>159</td>\n",
       "      <td>19M</td>\n",
       "      <td>10,000+</td>\n",
       "      <td>Free</td>\n",
       "      <td>0</td>\n",
       "      <td>Everyone</td>\n",
       "      <td>Art &amp; Design</td>\n",
       "      <td>January 7, 2018</td>\n",
       "      <td>1.0.0</td>\n",
       "      <td>4.0.3 and up</td>\n",
       "      <td>19</td>\n",
       "      <td>M</td>\n",
       "    </tr>\n",
       "    <tr>\n",
       "      <th>1</th>\n",
       "      <td>Coloring book moana</td>\n",
       "      <td>ART_AND_DESIGN</td>\n",
       "      <td>3.9</td>\n",
       "      <td>967</td>\n",
       "      <td>14M</td>\n",
       "      <td>500,000+</td>\n",
       "      <td>Free</td>\n",
       "      <td>0</td>\n",
       "      <td>Everyone</td>\n",
       "      <td>Art &amp; Design;Pretend Play</td>\n",
       "      <td>January 15, 2018</td>\n",
       "      <td>2.0.0</td>\n",
       "      <td>4.0.3 and up</td>\n",
       "      <td>14</td>\n",
       "      <td>M</td>\n",
       "    </tr>\n",
       "  </tbody>\n",
       "</table>\n",
       "</div>"
      ],
      "text/plain": [
       "                                              App        Category  Rating  \\\n",
       "0  Photo Editor & Candy Camera & Grid & ScrapBook  ART_AND_DESIGN     4.1   \n",
       "1                             Coloring book moana  ART_AND_DESIGN     3.9   \n",
       "\n",
       "  Reviews Size  Installs  Type Price Content Rating  \\\n",
       "0     159  19M   10,000+  Free     0       Everyone   \n",
       "1     967  14M  500,000+  Free     0       Everyone   \n",
       "\n",
       "                      Genres      Last Updated Current Ver   Android Ver  \\\n",
       "0               Art & Design   January 7, 2018       1.0.0  4.0.3 and up   \n",
       "1  Art & Design;Pretend Play  January 15, 2018       2.0.0  4.0.3 and up   \n",
       "\n",
       "  Size_Num Size_Type  \n",
       "0       19         M  \n",
       "1       14         M  "
      ]
     },
     "execution_count": 15,
     "metadata": {},
     "output_type": "execute_result"
    }
   ],
   "source": [
    "#Extract size type (Mb or Kb) from 'Size' column\n",
    "df_apps[\"Size_Type\"] = df_apps[\"Size\"].str[-1]  #We drop (slice off) the 'M' or 'k' from end of the string\n",
    "df_apps.head(2)"
   ]
  },
  {
   "cell_type": "code",
   "execution_count": 16,
   "id": "b80ba0b8",
   "metadata": {
    "scrolled": false
   },
   "outputs": [
    {
     "data": {
      "text/plain": [
       "14    166\n",
       "12    161\n",
       "11    159\n",
       "15    159\n",
       "13    157\n",
       "Name: Size_Num, dtype: int64"
      ]
     },
     "execution_count": 16,
     "metadata": {},
     "output_type": "execute_result"
    }
   ],
   "source": [
    "df_apps['Size_Num'].value_counts().head(5)"
   ]
  },
  {
   "cell_type": "code",
   "execution_count": 17,
   "id": "12c8893b",
   "metadata": {
    "scrolled": false
   },
   "outputs": [],
   "source": [
    "#change the datatype for Size_Num from object to float\n",
    "df_apps['Size_Num'] = df_apps['Size_Num'].astype(float)"
   ]
  },
  {
   "cell_type": "code",
   "execution_count": 18,
   "id": "7ceb3fd4",
   "metadata": {
    "scrolled": false
   },
   "outputs": [
    {
     "data": {
      "text/plain": [
       "dtype('float64')"
      ]
     },
     "execution_count": 18,
     "metadata": {},
     "output_type": "execute_result"
    }
   ],
   "source": [
    "df_apps.Size_Num.dtypes"
   ]
  },
  {
   "cell_type": "code",
   "execution_count": 19,
   "id": "00ad3bc2",
   "metadata": {
    "scrolled": false
   },
   "outputs": [
    {
     "data": {
      "text/html": [
       "<div>\n",
       "<style scoped>\n",
       "    .dataframe tbody tr th:only-of-type {\n",
       "        vertical-align: middle;\n",
       "    }\n",
       "\n",
       "    .dataframe tbody tr th {\n",
       "        vertical-align: top;\n",
       "    }\n",
       "\n",
       "    .dataframe thead th {\n",
       "        text-align: right;\n",
       "    }\n",
       "</style>\n",
       "<table border=\"1\" class=\"dataframe\">\n",
       "  <thead>\n",
       "    <tr style=\"text-align: right;\">\n",
       "      <th></th>\n",
       "      <th>App</th>\n",
       "      <th>Category</th>\n",
       "      <th>Rating</th>\n",
       "      <th>Reviews</th>\n",
       "      <th>Size</th>\n",
       "      <th>Installs</th>\n",
       "      <th>Type</th>\n",
       "      <th>Price</th>\n",
       "      <th>Content Rating</th>\n",
       "      <th>Genres</th>\n",
       "      <th>Last Updated</th>\n",
       "      <th>Current Ver</th>\n",
       "      <th>Android Ver</th>\n",
       "      <th>Size_Num</th>\n",
       "      <th>Size_Type</th>\n",
       "    </tr>\n",
       "  </thead>\n",
       "  <tbody>\n",
       "    <tr>\n",
       "      <th>0</th>\n",
       "      <td>Photo Editor &amp; Candy Camera &amp; Grid &amp; ScrapBook</td>\n",
       "      <td>ART_AND_DESIGN</td>\n",
       "      <td>4.1</td>\n",
       "      <td>159</td>\n",
       "      <td>19M</td>\n",
       "      <td>10,000+</td>\n",
       "      <td>Free</td>\n",
       "      <td>0</td>\n",
       "      <td>Everyone</td>\n",
       "      <td>Art &amp; Design</td>\n",
       "      <td>January 7, 2018</td>\n",
       "      <td>1.0.0</td>\n",
       "      <td>4.0.3 and up</td>\n",
       "      <td>19.0</td>\n",
       "      <td>M</td>\n",
       "    </tr>\n",
       "    <tr>\n",
       "      <th>1</th>\n",
       "      <td>Coloring book moana</td>\n",
       "      <td>ART_AND_DESIGN</td>\n",
       "      <td>3.9</td>\n",
       "      <td>967</td>\n",
       "      <td>14M</td>\n",
       "      <td>500,000+</td>\n",
       "      <td>Free</td>\n",
       "      <td>0</td>\n",
       "      <td>Everyone</td>\n",
       "      <td>Art &amp; Design;Pretend Play</td>\n",
       "      <td>January 15, 2018</td>\n",
       "      <td>2.0.0</td>\n",
       "      <td>4.0.3 and up</td>\n",
       "      <td>14.0</td>\n",
       "      <td>M</td>\n",
       "    </tr>\n",
       "  </tbody>\n",
       "</table>\n",
       "</div>"
      ],
      "text/plain": [
       "                                              App        Category  Rating  \\\n",
       "0  Photo Editor & Candy Camera & Grid & ScrapBook  ART_AND_DESIGN     4.1   \n",
       "1                             Coloring book moana  ART_AND_DESIGN     3.9   \n",
       "\n",
       "  Reviews Size  Installs  Type Price Content Rating  \\\n",
       "0     159  19M   10,000+  Free     0       Everyone   \n",
       "1     967  14M  500,000+  Free     0       Everyone   \n",
       "\n",
       "                      Genres      Last Updated Current Ver   Android Ver  \\\n",
       "0               Art & Design   January 7, 2018       1.0.0  4.0.3 and up   \n",
       "1  Art & Design;Pretend Play  January 15, 2018       2.0.0  4.0.3 and up   \n",
       "\n",
       "   Size_Num Size_Type  \n",
       "0      19.0         M  \n",
       "1      14.0         M  "
      ]
     },
     "execution_count": 19,
     "metadata": {},
     "output_type": "execute_result"
    }
   ],
   "source": [
    "df_apps.head(2)"
   ]
  },
  {
   "cell_type": "code",
   "execution_count": 20,
   "id": "c8bc7ebc",
   "metadata": {
    "scrolled": false
   },
   "outputs": [],
   "source": [
    "#multiply those rows where Size is in Mb by 1000\n",
    "df_apps.loc[df_apps.Size_Type == \"M\", \"Size_Num\"] = df_apps['Size_Num'] * 1000"
   ]
  },
  {
   "cell_type": "code",
   "execution_count": 21,
   "id": "3497a4e8",
   "metadata": {
    "scrolled": false
   },
   "outputs": [
    {
     "data": {
      "text/html": [
       "<div>\n",
       "<style scoped>\n",
       "    .dataframe tbody tr th:only-of-type {\n",
       "        vertical-align: middle;\n",
       "    }\n",
       "\n",
       "    .dataframe tbody tr th {\n",
       "        vertical-align: top;\n",
       "    }\n",
       "\n",
       "    .dataframe thead th {\n",
       "        text-align: right;\n",
       "    }\n",
       "</style>\n",
       "<table border=\"1\" class=\"dataframe\">\n",
       "  <thead>\n",
       "    <tr style=\"text-align: right;\">\n",
       "      <th></th>\n",
       "      <th>App</th>\n",
       "      <th>Category</th>\n",
       "      <th>Rating</th>\n",
       "      <th>Reviews</th>\n",
       "      <th>Size</th>\n",
       "      <th>Installs</th>\n",
       "      <th>Type</th>\n",
       "      <th>Price</th>\n",
       "      <th>Content Rating</th>\n",
       "      <th>Genres</th>\n",
       "      <th>Last Updated</th>\n",
       "      <th>Current Ver</th>\n",
       "      <th>Android Ver</th>\n",
       "      <th>Size_Num</th>\n",
       "      <th>Size_Type</th>\n",
       "    </tr>\n",
       "  </thead>\n",
       "  <tbody>\n",
       "    <tr>\n",
       "      <th>0</th>\n",
       "      <td>Photo Editor &amp; Candy Camera &amp; Grid &amp; ScrapBook</td>\n",
       "      <td>ART_AND_DESIGN</td>\n",
       "      <td>4.1</td>\n",
       "      <td>159</td>\n",
       "      <td>19M</td>\n",
       "      <td>10,000+</td>\n",
       "      <td>Free</td>\n",
       "      <td>0</td>\n",
       "      <td>Everyone</td>\n",
       "      <td>Art &amp; Design</td>\n",
       "      <td>January 7, 2018</td>\n",
       "      <td>1.0.0</td>\n",
       "      <td>4.0.3 and up</td>\n",
       "      <td>19000.0</td>\n",
       "      <td>M</td>\n",
       "    </tr>\n",
       "    <tr>\n",
       "      <th>1</th>\n",
       "      <td>Coloring book moana</td>\n",
       "      <td>ART_AND_DESIGN</td>\n",
       "      <td>3.9</td>\n",
       "      <td>967</td>\n",
       "      <td>14M</td>\n",
       "      <td>500,000+</td>\n",
       "      <td>Free</td>\n",
       "      <td>0</td>\n",
       "      <td>Everyone</td>\n",
       "      <td>Art &amp; Design;Pretend Play</td>\n",
       "      <td>January 15, 2018</td>\n",
       "      <td>2.0.0</td>\n",
       "      <td>4.0.3 and up</td>\n",
       "      <td>14000.0</td>\n",
       "      <td>M</td>\n",
       "    </tr>\n",
       "  </tbody>\n",
       "</table>\n",
       "</div>"
      ],
      "text/plain": [
       "                                              App        Category  Rating  \\\n",
       "0  Photo Editor & Candy Camera & Grid & ScrapBook  ART_AND_DESIGN     4.1   \n",
       "1                             Coloring book moana  ART_AND_DESIGN     3.9   \n",
       "\n",
       "  Reviews Size  Installs  Type Price Content Rating  \\\n",
       "0     159  19M   10,000+  Free     0       Everyone   \n",
       "1     967  14M  500,000+  Free     0       Everyone   \n",
       "\n",
       "                      Genres      Last Updated Current Ver   Android Ver  \\\n",
       "0               Art & Design   January 7, 2018       1.0.0  4.0.3 and up   \n",
       "1  Art & Design;Pretend Play  January 15, 2018       2.0.0  4.0.3 and up   \n",
       "\n",
       "   Size_Num Size_Type  \n",
       "0   19000.0         M  \n",
       "1   14000.0         M  "
      ]
     },
     "execution_count": 21,
     "metadata": {},
     "output_type": "execute_result"
    }
   ],
   "source": [
    "df_apps.head(2)"
   ]
  },
  {
   "cell_type": "code",
   "execution_count": 22,
   "id": "4b39df84",
   "metadata": {
    "scrolled": false
   },
   "outputs": [
    {
     "data": {
      "text/html": [
       "<div>\n",
       "<style scoped>\n",
       "    .dataframe tbody tr th:only-of-type {\n",
       "        vertical-align: middle;\n",
       "    }\n",
       "\n",
       "    .dataframe tbody tr th {\n",
       "        vertical-align: top;\n",
       "    }\n",
       "\n",
       "    .dataframe thead th {\n",
       "        text-align: right;\n",
       "    }\n",
       "</style>\n",
       "<table border=\"1\" class=\"dataframe\">\n",
       "  <thead>\n",
       "    <tr style=\"text-align: right;\">\n",
       "      <th></th>\n",
       "      <th>App</th>\n",
       "      <th>Category</th>\n",
       "      <th>Rating</th>\n",
       "      <th>Reviews</th>\n",
       "      <th>Installs</th>\n",
       "      <th>Type</th>\n",
       "      <th>Price</th>\n",
       "      <th>Content Rating</th>\n",
       "      <th>Genres</th>\n",
       "      <th>Last Updated</th>\n",
       "      <th>Current Ver</th>\n",
       "      <th>Android Ver</th>\n",
       "      <th>Size</th>\n",
       "    </tr>\n",
       "  </thead>\n",
       "  <tbody>\n",
       "    <tr>\n",
       "      <th>0</th>\n",
       "      <td>Photo Editor &amp; Candy Camera &amp; Grid &amp; ScrapBook</td>\n",
       "      <td>ART_AND_DESIGN</td>\n",
       "      <td>4.1</td>\n",
       "      <td>159</td>\n",
       "      <td>10,000+</td>\n",
       "      <td>Free</td>\n",
       "      <td>0</td>\n",
       "      <td>Everyone</td>\n",
       "      <td>Art &amp; Design</td>\n",
       "      <td>January 7, 2018</td>\n",
       "      <td>1.0.0</td>\n",
       "      <td>4.0.3 and up</td>\n",
       "      <td>19000.0</td>\n",
       "    </tr>\n",
       "    <tr>\n",
       "      <th>1</th>\n",
       "      <td>Coloring book moana</td>\n",
       "      <td>ART_AND_DESIGN</td>\n",
       "      <td>3.9</td>\n",
       "      <td>967</td>\n",
       "      <td>500,000+</td>\n",
       "      <td>Free</td>\n",
       "      <td>0</td>\n",
       "      <td>Everyone</td>\n",
       "      <td>Art &amp; Design;Pretend Play</td>\n",
       "      <td>January 15, 2018</td>\n",
       "      <td>2.0.0</td>\n",
       "      <td>4.0.3 and up</td>\n",
       "      <td>14000.0</td>\n",
       "    </tr>\n",
       "  </tbody>\n",
       "</table>\n",
       "</div>"
      ],
      "text/plain": [
       "                                              App        Category  Rating  \\\n",
       "0  Photo Editor & Candy Camera & Grid & ScrapBook  ART_AND_DESIGN     4.1   \n",
       "1                             Coloring book moana  ART_AND_DESIGN     3.9   \n",
       "\n",
       "  Reviews  Installs  Type Price Content Rating                     Genres  \\\n",
       "0     159   10,000+  Free     0       Everyone               Art & Design   \n",
       "1     967  500,000+  Free     0       Everyone  Art & Design;Pretend Play   \n",
       "\n",
       "       Last Updated Current Ver   Android Ver     Size  \n",
       "0   January 7, 2018       1.0.0  4.0.3 and up  19000.0  \n",
       "1  January 15, 2018       2.0.0  4.0.3 and up  14000.0  "
      ]
     },
     "execution_count": 22,
     "metadata": {},
     "output_type": "execute_result"
    }
   ],
   "source": [
    "#Drop Size and Rename Size_Num as Size, Drop Size_Type\n",
    "df_apps.drop(['Size', 'Size_Type'], axis=1, inplace=True)\n",
    "df_apps.rename(columns={\"Size_Num\": \"Size\"}, inplace=True)\n",
    "df_apps.head(2)"
   ]
  },
  {
   "cell_type": "markdown",
   "id": "96e2e560",
   "metadata": {},
   "source": [
    "## Reviews feature "
   ]
  },
  {
   "cell_type": "code",
   "execution_count": 23,
   "id": "7ce64280",
   "metadata": {
    "scrolled": false
   },
   "outputs": [
    {
     "data": {
      "text/plain": [
       "dtype('float64')"
      ]
     },
     "execution_count": 23,
     "metadata": {},
     "output_type": "execute_result"
    }
   ],
   "source": [
    "#change the datatype for Reviews from object to int\n",
    "df_apps['Reviews'] = df_apps['Reviews'].astype('float64')\n",
    "df_apps.Reviews.dtypes"
   ]
  },
  {
   "cell_type": "markdown",
   "id": "8f4a70a9",
   "metadata": {},
   "source": [
    "##  Installs feature"
   ]
  },
  {
   "cell_type": "code",
   "execution_count": 24,
   "id": "a5d4e85d",
   "metadata": {
    "scrolled": false
   },
   "outputs": [
    {
     "data": {
      "text/plain": [
       "1,000,000+     1301\n",
       "100,000+       1037\n",
       "10,000+         968\n",
       "10,000,000+     825\n",
       "1,000+          689\n",
       "Name: Installs, dtype: int64"
      ]
     },
     "execution_count": 24,
     "metadata": {},
     "output_type": "execute_result"
    }
   ],
   "source": [
    "df_apps.Installs.value_counts().head(5)"
   ]
  },
  {
   "cell_type": "code",
   "execution_count": 25,
   "id": "c1ba0666",
   "metadata": {
    "scrolled": false
   },
   "outputs": [],
   "source": [
    "#Remove \",\" and \"+\" from Installs variable\n",
    "df_apps[\"Installs\"]= df_apps[\"Installs\"].str.replace(\"[+,]\",\"\").astype('int64')"
   ]
  },
  {
   "cell_type": "code",
   "execution_count": 26,
   "id": "50fb4127",
   "metadata": {
    "scrolled": false
   },
   "outputs": [
    {
     "data": {
      "text/plain": [
       "dtype('int64')"
      ]
     },
     "execution_count": 26,
     "metadata": {},
     "output_type": "execute_result"
    }
   ],
   "source": [
    "df_apps.Installs.dtypes"
   ]
  },
  {
   "cell_type": "code",
   "execution_count": 27,
   "id": "6413556f",
   "metadata": {
    "scrolled": false
   },
   "outputs": [
    {
     "data": {
      "text/plain": [
       "1,000,000     1301\n",
       "100,000       1037\n",
       "10,000         968\n",
       "10,000,000     825\n",
       "1,000          689\n",
       "Name: Installs, dtype: int64"
      ]
     },
     "execution_count": 27,
     "metadata": {},
     "output_type": "execute_result"
    }
   ],
   "source": [
    "df_apps[\"Installs\"].map('{:,d}'.format).value_counts().sort_values(ascending=False).head(5)"
   ]
  },
  {
   "cell_type": "markdown",
   "id": "08801c1f",
   "metadata": {},
   "source": [
    "## Price feature "
   ]
  },
  {
   "cell_type": "code",
   "execution_count": 28,
   "id": "0bc38074",
   "metadata": {
    "scrolled": false
   },
   "outputs": [
    {
     "data": {
      "text/plain": [
       "0        7146\n",
       "$0.99     105\n",
       "$2.99     101\n",
       "$4.99      63\n",
       "$1.99      53\n",
       "Name: Price, dtype: int64"
      ]
     },
     "execution_count": 28,
     "metadata": {},
     "output_type": "execute_result"
    }
   ],
   "source": [
    "df_apps.Price.value_counts().head(5)"
   ]
  },
  {
   "cell_type": "code",
   "execution_count": 29,
   "id": "9574a2b1",
   "metadata": {
    "scrolled": false
   },
   "outputs": [],
   "source": [
    "#Remove \"$\" from Price variable & convert it to float\n",
    "df_apps[\"Price\"]= df_apps[\"Price\"].str.replace(\"[$]\",\"\").astype(float)"
   ]
  },
  {
   "cell_type": "code",
   "execution_count": 30,
   "id": "6f4c52e6",
   "metadata": {
    "scrolled": false
   },
   "outputs": [
    {
     "data": {
      "text/plain": [
       "0.00    7146\n",
       "0.99     105\n",
       "2.99     101\n",
       "4.99      63\n",
       "1.99      53\n",
       "Name: Price, dtype: int64"
      ]
     },
     "execution_count": 30,
     "metadata": {},
     "output_type": "execute_result"
    }
   ],
   "source": [
    "df_apps.Price.value_counts().head(5)"
   ]
  },
  {
   "cell_type": "code",
   "execution_count": 31,
   "id": "9cf21777",
   "metadata": {
    "scrolled": false
   },
   "outputs": [
    {
     "data": {
      "text/plain": [
       "dtype('float64')"
      ]
     },
     "execution_count": 31,
     "metadata": {},
     "output_type": "execute_result"
    }
   ],
   "source": [
    "df_apps.Price.dtypes"
   ]
  },
  {
   "cell_type": "markdown",
   "id": "28484936",
   "metadata": {},
   "source": [
    "# Sanity checks "
   ]
  },
  {
   "cell_type": "markdown",
   "id": "201e2678",
   "metadata": {},
   "source": [
    "## Rating feature "
   ]
  },
  {
   "cell_type": "code",
   "execution_count": 32,
   "id": "a4d0c6cb",
   "metadata": {
    "scrolled": true
   },
   "outputs": [
    {
     "data": {
      "image/png": "[encoded data removed]",
      "text/plain": [
       "<Figure size 2000x500 with 1 Axes>"
      ]
     },
     "metadata": {},
     "output_type": "display_data"
    }
   ],
   "source": [
    "#Average rating should be between 1 and 5, drop rows outside this range\n",
    "plt.style.use('default')\n",
    "plt.figure(figsize=(20,5))\n",
    "ax = sns.countplot(x=\"Rating\", data=df_apps, palette=\"flare\")\n",
    "plt.show()"
   ]
  },
  {
   "cell_type": "code",
   "execution_count": 33,
   "id": "0da04424",
   "metadata": {
    "scrolled": false
   },
   "outputs": [
    {
     "name": "stdout",
     "output_type": "stream",
     "text": [
      "Records with invalid Ratings: 0\n",
      "Shape of dataframe : (7723, 13)\n"
     ]
    }
   ],
   "source": [
    "# Average rating should be between 1 and 5, drop rows outside this range.\n",
    "df_filtered_Invalid_Rating = df_apps.loc[(df_apps['Rating'] < 1.0) | (df_apps['Rating'] > 5.0)]\n",
    "print(\"Records with invalid Ratings:\" ,df_filtered_Invalid_Rating.Rating.count())\n",
    "print(\"Shape of dataframe :\", df_apps.shape)"
   ]
  },
  {
   "cell_type": "code",
   "execution_count": 34,
   "id": "97859849",
   "metadata": {
    "scrolled": false
   },
   "outputs": [
    {
     "name": "stdout",
     "output_type": "stream",
     "text": [
      "New shape of dataframe : (7723, 13)\n"
     ]
    }
   ],
   "source": [
    "df_apps.drop(((df_apps[df_apps['Rating'] < 1.0]) |(df_apps[df_apps['Rating'] > 5.0])).index, inplace = True)\n",
    "print(\"New shape of dataframe :\", df_apps.shape)"
   ]
  },
  {
   "cell_type": "markdown",
   "id": "e39ed08c",
   "metadata": {},
   "source": [
    "## Reviews feature"
   ]
  },
  {
   "cell_type": "code",
   "execution_count": 35,
   "id": "0c446acd",
   "metadata": {
    "scrolled": false
   },
   "outputs": [
    {
     "name": "stdout",
     "output_type": "stream",
     "text": [
      "Records with invalid Reviews: 6\n"
     ]
    },
    {
     "data": {
      "text/plain": [
       "(7723, 13)"
      ]
     },
     "execution_count": 35,
     "metadata": {},
     "output_type": "execute_result"
    }
   ],
   "source": [
    "# Number of Reviews should not be greater than Installs.  Drop Records where Reviews > Installs.\n",
    "df_filtered_Invalid_Review = df_apps[df_apps['Reviews'] > df_apps['Installs']]\n",
    "print(\"Records with invalid Reviews:\" ,df_filtered_Invalid_Review.Reviews.count())\n",
    "df_filtered_Invalid_Review\n",
    "df_apps.shape"
   ]
  },
  {
   "cell_type": "code",
   "execution_count": 36,
   "id": "2ac5dd31",
   "metadata": {
    "scrolled": false
   },
   "outputs": [],
   "source": [
    "# Number of Reviews should not be greater than Installs.  Drop Records where Reviews > Installs.\n",
    "df_apps.drop(df_apps[df_apps['Reviews'] > df_apps['Installs']].index, inplace = True)"
   ]
  },
  {
   "cell_type": "code",
   "execution_count": 37,
   "id": "3d264bd2",
   "metadata": {
    "scrolled": false
   },
   "outputs": [
    {
     "data": {
      "text/plain": [
       "(7717, 13)"
      ]
     },
     "execution_count": 37,
     "metadata": {},
     "output_type": "execute_result"
    }
   ],
   "source": [
    "#New dataframe after dropping the invalid records\n",
    "df_apps.shape"
   ]
  },
  {
   "cell_type": "markdown",
   "id": "2b040e21",
   "metadata": {},
   "source": [
    "## Price feature"
   ]
  },
  {
   "cell_type": "code",
   "execution_count": 38,
   "id": "1a16b5d0",
   "metadata": {
    "scrolled": false
   },
   "outputs": [
    {
     "data": {
      "text/plain": [
       "Price   Type\n",
       "0.00    Free    7142\n",
       "0.99    Paid     104\n",
       "1.00    Paid       2\n",
       "1.20    Paid       1\n",
       "1.29    Paid       1\n",
       "                ... \n",
       "299.99  Paid       1\n",
       "379.99  Paid       1\n",
       "389.99  Paid       1\n",
       "399.99  Paid      11\n",
       "400.00  Paid       1\n",
       "Length: 68, dtype: int64"
      ]
     },
     "execution_count": 38,
     "metadata": {},
     "output_type": "execute_result"
    }
   ],
   "source": [
    "#For Free apps the Price should be 0.  Drop the invalid records.\n",
    "df_apps[[\"Price\",\"Type\"]].value_counts().sort_index()"
   ]
  },
  {
   "cell_type": "code",
   "execution_count": 39,
   "id": "b0924eaf",
   "metadata": {
    "scrolled": false
   },
   "outputs": [
    {
     "name": "stdout",
     "output_type": "stream",
     "text": [
      "Records with invalid Pricing: 0\n"
     ]
    }
   ],
   "source": [
    "#For Free apps the Price should be 0.  Drop the invalid records.\n",
    "df_filtered_Invalid_Price= df_apps.loc[(df_apps['Price'] != 0) & (df_apps['Type'] == \"Free\")]\n",
    "print(\"Records with invalid Pricing:\" ,df_filtered_Invalid_Price.Price.count())"
   ]
  },
  {
   "cell_type": "code",
   "execution_count": 40,
   "id": "494208fe",
   "metadata": {
    "scrolled": false
   },
   "outputs": [],
   "source": [
    "#Drop Invalid Price records\n",
    "df_apps.drop(df_apps.loc[(df_apps['Price'] != 0) & (df_apps['Type'] == \"Free\")].index, inplace = True)"
   ]
  },
  {
   "cell_type": "code",
   "execution_count": 41,
   "id": "f426d66f",
   "metadata": {
    "scrolled": false
   },
   "outputs": [
    {
     "data": {
      "text/plain": [
       "(7717, 13)"
      ]
     },
     "execution_count": 41,
     "metadata": {},
     "output_type": "execute_result"
    }
   ],
   "source": [
    "df_apps.shape"
   ]
  },
  {
   "cell_type": "markdown",
   "id": "a2be9038",
   "metadata": {},
   "source": [
    "# Performing Univariate Analysis "
   ]
  },
  {
   "cell_type": "markdown",
   "id": "b1578686",
   "metadata": {},
   "source": [
    "## Numeric features "
   ]
  },
  {
   "cell_type": "code",
   "execution_count": 42,
   "id": "b378d5b9",
   "metadata": {
    "scrolled": false
   },
   "outputs": [
    {
     "name": "stdout",
     "output_type": "stream",
     "text": [
      "['Rating', 'Reviews', 'Installs', 'Price', 'Size']\n"
     ]
    }
   ],
   "source": [
    "#Performing Univariate Analysis - Box Plots for Numeric Features\n",
    "numerics = ['int16', 'int32', 'int64', 'float16', 'float32', 'float64']\n",
    "numeric_var = []         #initialize \n",
    "for each in df_apps.columns: #for each column that is numeric\n",
    "    if df_apps[each].dtypes in numerics:\n",
    "        numeric_var.append(each)\n",
    "\n",
    "print(numeric_var)"
   ]
  },
  {
   "cell_type": "markdown",
   "id": "78cde284",
   "metadata": {},
   "source": [
    "### Boxplot Numeric features "
   ]
  },
  {
   "cell_type": "code",
   "execution_count": 43,
   "id": "39c0b88f",
   "metadata": {
    "scrolled": false
   },
   "outputs": [
    {
     "data": {
      "image/png": "[encoded data removed]",
      "text/plain": [
       "<Figure size 2000x800 with 5 Axes>"
      ]
     },
     "metadata": {},
     "output_type": "display_data"
    }
   ],
   "source": [
    "#BoxPlot for Numeric Columns including Price:\n",
    "\n",
    "flierprops = dict(marker='d', markerfacecolor='r', markersize=4, linestyle='none', markeredgecolor='r')\n",
    "\n",
    "plt.figure(figsize=(20,8))\n",
    "plt.style.use('default')\n",
    "\n",
    "for i in enumerate(numeric_var):\n",
    "    plt.subplot(3,2,i[0]+1)\n",
    "    ax=sns.boxplot(data=df_apps, x=i[1], orient='v', flierprops=flierprops)\n",
    "    plt.xlabel(i[1], fontsize=18)\n",
    "    ax.tick_params(axis='x', labelsize=15 )\n",
    "\n",
    "plt.tight_layout()\n",
    "plt.show()"
   ]
  },
  {
   "cell_type": "markdown",
   "id": "ccb8c2ec",
   "metadata": {},
   "source": [
    "### Histogram Numeric features "
   ]
  },
  {
   "cell_type": "code",
   "execution_count": 44,
   "id": "89eb0f04",
   "metadata": {
    "scrolled": false
   },
   "outputs": [
    {
     "data": {
      "image/png": "[encoded data removed]",
      "text/plain": [
       "<Figure size 1800x700 with 5 Axes>"
      ]
     },
     "metadata": {},
     "output_type": "display_data"
    }
   ],
   "source": [
    "fig=plt.figure(figsize=(18,7))\n",
    "plt.style.use('seaborn')\n",
    "fig.suptitle('Numeric data frequency distributions', fontsize=22, x=0.09) \n",
    "\n",
    "for i in enumerate(numeric_var):\n",
    "    plt.subplot(2,3,i[0]+1)\n",
    "    ax=sns.histplot(data=df_apps, x=i[1],element='step',palette=['darkslateblue'],bins=15, kde=True)\n",
    "    plt.xlabel(i[1],  fontsize=16)\n",
    "    plt.ylabel(\"frequency\", fontsize=16)\n",
    "    plt.axvline(x=df_apps[i[1]].mean(),ls='--', lw=1.5, c='r')\n",
    "    plt.setp(ax.get_xticklabels(), fontsize=15)\n",
    "    plt.setp(ax.get_yticklabels(), fontsize=15)\n",
    "    min_ylim, max_ylim = plt.ylim()\n",
    "    plt.text(df_apps[i[1]].mean()*1.1, max_ylim*0.9, 'Mean: {:.2f}'.format(df_apps[i[1]].mean()))\n",
    "\n",
    "plt.tight_layout()\n",
    "plt.show()\n"
   ]
  },
  {
   "cell_type": "markdown",
   "id": "5ccee163",
   "metadata": {},
   "source": [
    "### Overall summary statistics - Numeric features "
   ]
  },
  {
   "cell_type": "code",
   "execution_count": 45,
   "id": "9f9d6ac9",
   "metadata": {
    "scrolled": false
   },
   "outputs": [
    {
     "data": {
      "text/html": [
       "<div>\n",
       "<style scoped>\n",
       "    .dataframe tbody tr th:only-of-type {\n",
       "        vertical-align: middle;\n",
       "    }\n",
       "\n",
       "    .dataframe tbody tr th {\n",
       "        vertical-align: top;\n",
       "    }\n",
       "\n",
       "    .dataframe thead th {\n",
       "        text-align: right;\n",
       "    }\n",
       "</style>\n",
       "<table border=\"1\" class=\"dataframe\">\n",
       "  <thead>\n",
       "    <tr style=\"text-align: right;\">\n",
       "      <th></th>\n",
       "      <th>count</th>\n",
       "      <th>mean</th>\n",
       "      <th>std</th>\n",
       "      <th>min</th>\n",
       "      <th>25%</th>\n",
       "      <th>50%</th>\n",
       "      <th>75%</th>\n",
       "      <th>max</th>\n",
       "    </tr>\n",
       "  </thead>\n",
       "  <tbody>\n",
       "    <tr>\n",
       "      <th>Rating</th>\n",
       "      <td>7717.00</td>\n",
       "      <td>4.17</td>\n",
       "      <td>0.54</td>\n",
       "      <td>1.00</td>\n",
       "      <td>4.00</td>\n",
       "      <td>4.30</td>\n",
       "      <td>4.50</td>\n",
       "      <td>5.00</td>\n",
       "    </tr>\n",
       "    <tr>\n",
       "      <th>Reviews</th>\n",
       "      <td>7717.00</td>\n",
       "      <td>295127.55</td>\n",
       "      <td>1864639.61</td>\n",
       "      <td>1.00</td>\n",
       "      <td>109.00</td>\n",
       "      <td>2351.00</td>\n",
       "      <td>39109.00</td>\n",
       "      <td>44893888.00</td>\n",
       "    </tr>\n",
       "    <tr>\n",
       "      <th>Installs</th>\n",
       "      <td>7717.00</td>\n",
       "      <td>8430620.23</td>\n",
       "      <td>50176362.80</td>\n",
       "      <td>5.00</td>\n",
       "      <td>10000.00</td>\n",
       "      <td>100000.00</td>\n",
       "      <td>1000000.00</td>\n",
       "      <td>1000000000.00</td>\n",
       "    </tr>\n",
       "    <tr>\n",
       "      <th>Price</th>\n",
       "      <td>7717.00</td>\n",
       "      <td>1.13</td>\n",
       "      <td>17.41</td>\n",
       "      <td>0.00</td>\n",
       "      <td>0.00</td>\n",
       "      <td>0.00</td>\n",
       "      <td>0.00</td>\n",
       "      <td>400.00</td>\n",
       "    </tr>\n",
       "    <tr>\n",
       "      <th>Size</th>\n",
       "      <td>7717.00</td>\n",
       "      <td>22976.61</td>\n",
       "      <td>23456.77</td>\n",
       "      <td>8.50</td>\n",
       "      <td>5300.00</td>\n",
       "      <td>14000.00</td>\n",
       "      <td>33000.00</td>\n",
       "      <td>100000.00</td>\n",
       "    </tr>\n",
       "  </tbody>\n",
       "</table>\n",
       "</div>"
      ],
      "text/plain": [
       "           count       mean         std  min      25%       50%        75%  \\\n",
       "Rating   7717.00       4.17        0.54 1.00     4.00      4.30       4.50   \n",
       "Reviews  7717.00  295127.55  1864639.61 1.00   109.00   2351.00   39109.00   \n",
       "Installs 7717.00 8430620.23 50176362.80 5.00 10000.00 100000.00 1000000.00   \n",
       "Price    7717.00       1.13       17.41 0.00     0.00      0.00       0.00   \n",
       "Size     7717.00   22976.61    23456.77 8.50  5300.00  14000.00   33000.00   \n",
       "\n",
       "                   max  \n",
       "Rating            5.00  \n",
       "Reviews    44893888.00  \n",
       "Installs 1000000000.00  \n",
       "Price           400.00  \n",
       "Size         100000.00  "
      ]
     },
     "execution_count": 45,
     "metadata": {},
     "output_type": "execute_result"
    }
   ],
   "source": [
    "pd.set_option('display.float_format', lambda x: '%.2f' % x)\n",
    "np.transpose(df_apps.describe())"
   ]
  },
  {
   "cell_type": "markdown",
   "id": "a0776a77",
   "metadata": {},
   "source": [
    "## Price feature outliers "
   ]
  },
  {
   "cell_type": "code",
   "execution_count": 46,
   "id": "fcba34f4",
   "metadata": {
    "scrolled": false
   },
   "outputs": [
    {
     "name": "stdout",
     "output_type": "stream",
     "text": [
      "Percentiles\n"
     ]
    },
    {
     "data": {
      "text/plain": [
       "0.10   0.00\n",
       "0.25   0.00\n",
       "0.50   0.00\n",
       "0.70   0.00\n",
       "0.90   0.00\n",
       "0.95   1.99\n",
       "0.99   9.99\n",
       "Name: Price, dtype: float64"
      ]
     },
     "execution_count": 46,
     "metadata": {},
     "output_type": "execute_result"
    }
   ],
   "source": [
    "print(\"Percentiles\")\n",
    "df_apps['Price'].quantile([0.1, .25, .50, .70, .90, .95, .99])"
   ]
  },
  {
   "cell_type": "code",
   "execution_count": 47,
   "id": "f68b4361",
   "metadata": {
    "scrolled": false
   },
   "outputs": [
    {
     "name": "stdout",
     "output_type": "stream",
     "text": [
      "Count of apps with prices greater $9.99 : 71\n"
     ]
    }
   ],
   "source": [
    "df_filtered_Price_gt999= df_apps.loc[(df_apps['Price'] > 9.99)]\n",
    "print(\"Count of apps with prices greater $9.99 :\" ,df_filtered_Price_gt999.Price.count())"
   ]
  },
  {
   "cell_type": "markdown",
   "id": "2d943fd0",
   "metadata": {},
   "source": [
    "**Price feature observations:** Box plot and histogram for \"Price\" feature indicates several values that are outliers in the data.  The price of an app has an average value of $1.13, with 90% of the app prices costing \\\\$0.00. Overall, 99.0% of the prices for the apps is not more than \\\\$9.99. There are at least 71 apps (potential outliers) with prices greater than \\\\$9.99."
   ]
  },
  {
   "cell_type": "markdown",
   "id": "6133bd48",
   "metadata": {},
   "source": [
    "## Reviews feature outliers "
   ]
  },
  {
   "cell_type": "code",
   "execution_count": 48,
   "id": "8309d2e2",
   "metadata": {
    "scrolled": false
   },
   "outputs": [
    {
     "name": "stdout",
     "output_type": "stream",
     "text": [
      "Percentiles\n"
     ]
    },
    {
     "data": {
      "text/plain": [
       "0.10        14.00\n",
       "0.25       109.00\n",
       "0.50      2351.00\n",
       "0.70     24128.60\n",
       "0.90    264471.20\n",
       "0.95    857356.60\n",
       "0.99   6211914.28\n",
       "Name: Reviews, dtype: float64"
      ]
     },
     "execution_count": 48,
     "metadata": {},
     "output_type": "execute_result"
    }
   ],
   "source": [
    "print(\"Percentiles\")\n",
    "df_apps['Reviews'].quantile([0.1, .25, .50, .70, .90, .95, .99])"
   ]
  },
  {
   "cell_type": "code",
   "execution_count": 49,
   "id": "ce644454",
   "metadata": {
    "scrolled": false
   },
   "outputs": [
    {
     "name": "stdout",
     "output_type": "stream",
     "text": [
      "Count of apps with Reviews greater 1MM : 339\n"
     ]
    }
   ],
   "source": [
    "df_filtered_Reviews_gt1MM= df_apps.loc[(df_apps['Reviews'] > 1000000)]\n",
    "print(\"Count of apps with Reviews greater 1MM :\" ,df_filtered_Reviews_gt1MM.Reviews.count())"
   ]
  },
  {
   "cell_type": "markdown",
   "id": "34f27a99",
   "metadata": {},
   "source": [
    "**Reviews feature observations:** Box plot and histogram for \"Reviews\" feature indicates several values that are outliers in the data.  The average number of Reviews submitted for an app is ~295K. Overall, 95.0% of the apps have ~857K Reviews or less. "
   ]
  },
  {
   "cell_type": "markdown",
   "id": "b7d91b3d",
   "metadata": {},
   "source": [
    "## Rating feature distribution "
   ]
  },
  {
   "cell_type": "code",
   "execution_count": 50,
   "id": "f0e72c80",
   "metadata": {
    "scrolled": false
   },
   "outputs": [
    {
     "name": "stdout",
     "output_type": "stream",
     "text": [
      "Percentiles\n"
     ]
    },
    {
     "data": {
      "text/plain": [
       "0.10   3.50\n",
       "0.25   4.00\n",
       "0.50   4.30\n",
       "0.70   4.50\n",
       "0.90   4.70\n",
       "0.95   4.80\n",
       "0.99   5.00\n",
       "Name: Rating, dtype: float64"
      ]
     },
     "execution_count": 50,
     "metadata": {},
     "output_type": "execute_result"
    }
   ],
   "source": [
    "print(\"Percentiles\")\n",
    "df_apps['Rating'].quantile([0.1, .25, .50, .70, .90, .95, .99])"
   ]
  },
  {
   "cell_type": "code",
   "execution_count": 51,
   "id": "f8618902",
   "metadata": {
    "scrolled": false
   },
   "outputs": [
    {
     "name": "stdout",
     "output_type": "stream",
     "text": [
      "Count of apps with a rating less than 3.5 : 686\n"
     ]
    }
   ],
   "source": [
    "df_filtered_Rating_lt35= df_apps.loc[(df_apps['Rating'] < 3.5)]\n",
    "print(\"Count of apps with a rating less than 3.5 :\" ,df_filtered_Rating_lt35.Rating.count())"
   ]
  },
  {
   "cell_type": "markdown",
   "id": "57747090",
   "metadata": {},
   "source": [
    "**Rating feature, distribution observations:** The average rating score for an app is 4.17.  The data distribution for app rating scores is negatively skewed. This is apparent in the histogram for \"Rating\" feature as well as the box plot. The negative skew indicates that the feature is skewed and the tail of the distribution is longer towards the left hand side of the curve. We would expect that the outliers in the data would lie in this area to the left. Less than 10% of the apps have scores below 3.5."
   ]
  },
  {
   "cell_type": "markdown",
   "id": "8e31d6a3",
   "metadata": {},
   "source": [
    "## Size feature distribution "
   ]
  },
  {
   "cell_type": "code",
   "execution_count": 52,
   "id": "efe00c6a",
   "metadata": {
    "scrolled": false
   },
   "outputs": [
    {
     "name": "stdout",
     "output_type": "stream",
     "text": [
      "Percentiles\n"
     ]
    },
    {
     "data": {
      "text/plain": [
       "0.10    2500.00\n",
       "0.25    5300.00\n",
       "0.50   14000.00\n",
       "0.70   27000.00\n",
       "0.90   59000.00\n",
       "0.95   76000.00\n",
       "0.99   97000.00\n",
       "Name: Size, dtype: float64"
      ]
     },
     "execution_count": 52,
     "metadata": {},
     "output_type": "execute_result"
    }
   ],
   "source": [
    "print(\"Percentiles\")\n",
    "df_apps['Size'].quantile([0.1, .25, .50, .70, .90, .95, .99])"
   ]
  },
  {
   "cell_type": "code",
   "execution_count": 53,
   "id": "f14b4bf2",
   "metadata": {
    "scrolled": false
   },
   "outputs": [
    {
     "name": "stdout",
     "output_type": "stream",
     "text": [
      "Count of apps with a Size greater than 76K: 374\n"
     ]
    }
   ],
   "source": [
    "df_filtered_Size_gt76= df_apps.loc[(df_apps['Size'] > 76000)]\n",
    "print(\"Count of apps with a Size greater than 76K:\" ,df_filtered_Size_gt76.Size.count())"
   ]
  },
  {
   "cell_type": "markdown",
   "id": "9006e966",
   "metadata": {},
   "source": [
    "**Size feature, distribution observations:** The average size for an app is ~23K.  The data distribution for an apps size is positively skewed. This is apparent in the histogram for \"Size\" feature as well as the box plot. The positive skew indicates that the feature is skewed and the tail of the distribution is longer towards the right hand side of the curve. We would expect that the outliers in the data would lie in this area to the right. Approximately 5% of the data on app sizes as greater than 76K."
   ]
  },
  {
   "cell_type": "markdown",
   "id": "431eb072",
   "metadata": {},
   "source": [
    "# Outliers treatment"
   ]
  },
  {
   "cell_type": "markdown",
   "id": "92abaff2",
   "metadata": {},
   "source": [
    "## Price feature "
   ]
  },
  {
   "cell_type": "markdown",
   "id": "1df8cd43",
   "metadata": {},
   "source": [
    "**Handling over-priced apps:**  App price greater >= \\\\$200 should be excluded from app prediction analysis.  These apps may be dummy data or junk apps."
   ]
  },
  {
   "cell_type": "code",
   "execution_count": 54,
   "id": "d94828c4",
   "metadata": {
    "scrolled": false
   },
   "outputs": [
    {
     "name": "stdout",
     "output_type": "stream",
     "text": [
      "Records with Price greater than $200:  15\n",
      "Shape of dataframe : (7717, 13)\n"
     ]
    }
   ],
   "source": [
    "df_filtered_Invalid_Price2 = df_apps.loc[(df_apps['Price'] >= 200.0)]\n",
    "print(\"Records with Price greater than $200: \" ,df_filtered_Invalid_Price2.Price.count())\n",
    "print(\"Shape of dataframe :\", df_apps.shape)"
   ]
  },
  {
   "cell_type": "code",
   "execution_count": 55,
   "id": "a8c0ee55",
   "metadata": {
    "scrolled": false
   },
   "outputs": [
    {
     "data": {
      "text/html": [
       "<div>\n",
       "<style scoped>\n",
       "    .dataframe tbody tr th:only-of-type {\n",
       "        vertical-align: middle;\n",
       "    }\n",
       "\n",
       "    .dataframe tbody tr th {\n",
       "        vertical-align: top;\n",
       "    }\n",
       "\n",
       "    .dataframe thead th {\n",
       "        text-align: right;\n",
       "    }\n",
       "</style>\n",
       "<table border=\"1\" class=\"dataframe\">\n",
       "  <thead>\n",
       "    <tr style=\"text-align: right;\">\n",
       "      <th></th>\n",
       "      <th>App</th>\n",
       "      <th>Category</th>\n",
       "      <th>Rating</th>\n",
       "      <th>Reviews</th>\n",
       "      <th>Installs</th>\n",
       "      <th>Type</th>\n",
       "      <th>Price</th>\n",
       "      <th>Content Rating</th>\n",
       "      <th>Genres</th>\n",
       "      <th>Last Updated</th>\n",
       "      <th>Current Ver</th>\n",
       "      <th>Android Ver</th>\n",
       "      <th>Size</th>\n",
       "    </tr>\n",
       "  </thead>\n",
       "  <tbody>\n",
       "    <tr>\n",
       "      <th>4036</th>\n",
       "      <td>most expensive app (H)</td>\n",
       "      <td>FAMILY</td>\n",
       "      <td>4.30</td>\n",
       "      <td>6.00</td>\n",
       "      <td>100</td>\n",
       "      <td>Paid</td>\n",
       "      <td>399.99</td>\n",
       "      <td>Everyone</td>\n",
       "      <td>Entertainment</td>\n",
       "      <td>July 16, 2018</td>\n",
       "      <td>1.0</td>\n",
       "      <td>7.0 and up</td>\n",
       "      <td>1500.00</td>\n",
       "    </tr>\n",
       "    <tr>\n",
       "      <th>4189</th>\n",
       "      <td>💎 I'm rich</td>\n",
       "      <td>LIFESTYLE</td>\n",
       "      <td>3.80</td>\n",
       "      <td>718.00</td>\n",
       "      <td>10000</td>\n",
       "      <td>Paid</td>\n",
       "      <td>399.99</td>\n",
       "      <td>Everyone</td>\n",
       "      <td>Lifestyle</td>\n",
       "      <td>March 11, 2018</td>\n",
       "      <td>1.0.0</td>\n",
       "      <td>4.4 and up</td>\n",
       "      <td>26000.00</td>\n",
       "    </tr>\n",
       "    <tr>\n",
       "      <th>4194</th>\n",
       "      <td>I'm Rich - Trump Edition</td>\n",
       "      <td>LIFESTYLE</td>\n",
       "      <td>3.60</td>\n",
       "      <td>275.00</td>\n",
       "      <td>10000</td>\n",
       "      <td>Paid</td>\n",
       "      <td>400.00</td>\n",
       "      <td>Everyone</td>\n",
       "      <td>Lifestyle</td>\n",
       "      <td>May 3, 2018</td>\n",
       "      <td>1.0.1</td>\n",
       "      <td>4.1 and up</td>\n",
       "      <td>7300.00</td>\n",
       "    </tr>\n",
       "    <tr>\n",
       "      <th>5042</th>\n",
       "      <td>I am rich</td>\n",
       "      <td>LIFESTYLE</td>\n",
       "      <td>3.80</td>\n",
       "      <td>3547.00</td>\n",
       "      <td>100000</td>\n",
       "      <td>Paid</td>\n",
       "      <td>399.99</td>\n",
       "      <td>Everyone</td>\n",
       "      <td>Lifestyle</td>\n",
       "      <td>January 12, 2018</td>\n",
       "      <td>2.0</td>\n",
       "      <td>4.0.3 and up</td>\n",
       "      <td>1800.00</td>\n",
       "    </tr>\n",
       "    <tr>\n",
       "      <th>5045</th>\n",
       "      <td>I am Rich Plus</td>\n",
       "      <td>FAMILY</td>\n",
       "      <td>4.00</td>\n",
       "      <td>856.00</td>\n",
       "      <td>10000</td>\n",
       "      <td>Paid</td>\n",
       "      <td>399.99</td>\n",
       "      <td>Everyone</td>\n",
       "      <td>Entertainment</td>\n",
       "      <td>May 19, 2018</td>\n",
       "      <td>3.0</td>\n",
       "      <td>4.4 and up</td>\n",
       "      <td>8700.00</td>\n",
       "    </tr>\n",
       "  </tbody>\n",
       "</table>\n",
       "</div>"
      ],
      "text/plain": [
       "                           App   Category  Rating  Reviews  Installs  Type  \\\n",
       "4036    most expensive app (H)     FAMILY    4.30     6.00       100  Paid   \n",
       "4189                💎 I'm rich  LIFESTYLE    3.80   718.00     10000  Paid   \n",
       "4194  I'm Rich - Trump Edition  LIFESTYLE    3.60   275.00     10000  Paid   \n",
       "5042                 I am rich  LIFESTYLE    3.80  3547.00    100000  Paid   \n",
       "5045            I am Rich Plus     FAMILY    4.00   856.00     10000  Paid   \n",
       "\n",
       "      Price Content Rating         Genres      Last Updated Current Ver  \\\n",
       "4036 399.99       Everyone  Entertainment     July 16, 2018         1.0   \n",
       "4189 399.99       Everyone      Lifestyle    March 11, 2018       1.0.0   \n",
       "4194 400.00       Everyone      Lifestyle       May 3, 2018       1.0.1   \n",
       "5042 399.99       Everyone      Lifestyle  January 12, 2018         2.0   \n",
       "5045 399.99       Everyone  Entertainment      May 19, 2018         3.0   \n",
       "\n",
       "       Android Ver     Size  \n",
       "4036    7.0 and up  1500.00  \n",
       "4189    4.4 and up 26000.00  \n",
       "4194    4.1 and up  7300.00  \n",
       "5042  4.0.3 and up  1800.00  \n",
       "5045    4.4 and up  8700.00  "
      ]
     },
     "execution_count": 55,
     "metadata": {},
     "output_type": "execute_result"
    }
   ],
   "source": [
    "df_filtered_Invalid_Price2.head(5)"
   ]
  },
  {
   "cell_type": "code",
   "execution_count": 56,
   "id": "d528ab50",
   "metadata": {
    "scrolled": false
   },
   "outputs": [],
   "source": [
    "#Drop over-priced apps\n",
    "df_apps.drop(df_apps.loc[(df_apps['Price'] >= 200)].index, inplace = True)"
   ]
  },
  {
   "cell_type": "code",
   "execution_count": 57,
   "id": "d46d4667",
   "metadata": {
    "scrolled": false
   },
   "outputs": [
    {
     "data": {
      "text/plain": [
       "(7702, 13)"
      ]
     },
     "execution_count": 57,
     "metadata": {},
     "output_type": "execute_result"
    }
   ],
   "source": [
    "df_apps.shape"
   ]
  },
  {
   "cell_type": "markdown",
   "id": "c54a753d",
   "metadata": {},
   "source": [
    "## Reviews feature "
   ]
  },
  {
   "cell_type": "code",
   "execution_count": 58,
   "id": "6cabdd12",
   "metadata": {
    "scrolled": false
   },
   "outputs": [
    {
     "name": "stdout",
     "output_type": "stream",
     "text": [
      "Records with Reviews greater than 2MM:  219\n",
      "Shape of dataframe : (7702, 13)\n"
     ]
    }
   ],
   "source": [
    "#Reviews: Apps with over 2 million reviews will skew the data.  Drop these apps.\n",
    "df_filtered_Invalid_Review2 = df_apps.loc[(df_apps['Reviews'] > 2000000)]\n",
    "print(\"Records with Reviews greater than 2MM: \" ,df_filtered_Invalid_Review2.Reviews.count())\n",
    "print(\"Shape of dataframe :\", df_apps.shape)"
   ]
  },
  {
   "cell_type": "code",
   "execution_count": 59,
   "id": "ccb06cfa",
   "metadata": {
    "scrolled": false
   },
   "outputs": [
    {
     "data": {
      "text/plain": [
       "(7483, 13)"
      ]
     },
     "execution_count": 59,
     "metadata": {},
     "output_type": "execute_result"
    }
   ],
   "source": [
    "#Drop apps with Reviews totalling more than 2MM\n",
    "df_apps.drop(df_apps.loc[(df_apps['Reviews'] > 2000000)].index, inplace = True)\n",
    "df_apps.shape"
   ]
  },
  {
   "cell_type": "markdown",
   "id": "b894f034",
   "metadata": {},
   "source": [
    "## Installs feature "
   ]
  },
  {
   "cell_type": "code",
   "execution_count": 60,
   "id": "f9175d9c",
   "metadata": {
    "scrolled": false
   },
   "outputs": [
    {
     "data": {
      "text/plain": [
       "count         7483.00\n",
       "mean       3947464.54\n",
       "std       27818305.32\n",
       "min              5.00\n",
       "25%          10000.00\n",
       "50%         100000.00\n",
       "75%        1000000.00\n",
       "max     1000000000.00\n",
       "Name: Installs, dtype: float64"
      ]
     },
     "execution_count": 60,
     "metadata": {},
     "output_type": "execute_result"
    }
   ],
   "source": [
    "#Installs: Drop the apps with outliers for # of installs.\n",
    "pd.set_option('display.float_format', lambda x: '%.2f' % x)\n",
    "np.transpose(df_apps[\"Installs\"].describe())"
   ]
  },
  {
   "cell_type": "code",
   "execution_count": 61,
   "id": "5ae6d59b",
   "metadata": {
    "scrolled": false
   },
   "outputs": [
    {
     "data": {
      "text/plain": [
       "0.10       1000.00\n",
       "0.25      10000.00\n",
       "0.50     100000.00\n",
       "0.70    1000000.00\n",
       "0.90   10000000.00\n",
       "0.95   10000000.00\n",
       "0.99   50000000.00\n",
       "Name: Installs, dtype: float64"
      ]
     },
     "execution_count": 61,
     "metadata": {},
     "output_type": "execute_result"
    }
   ],
   "source": [
    "df_apps['Installs'].quantile([0.1, .25, .50, .70, .90, .95, .99])"
   ]
  },
  {
   "cell_type": "markdown",
   "id": "4ede7423",
   "metadata": {},
   "source": [
    "**Find Outliers Using Tukey Method and IQR**\n"
   ]
  },
  {
   "cell_type": "markdown",
   "id": "e78e56b7",
   "metadata": {},
   "source": [
    "Tukey’s rule states that outliers are values more than 1.5 times the interquartile (IQR) range from the \n",
    "quartiles.  That is data points below Q1 − 1.5IQR, or above Q3 + 1.5IQR where IQR = Q3 - Q1.\n",
    "\n",
    "Seaborn boxplot uses the IQR range to map out the outliers. The whiskers = Q1 - 1.5 x IQR (on the left) and Q3 + 1.5 x IQR (on the right).  Any value outside of the whiskers is called the outliers.  We will use this technique to identify the outliers in our dataframe for the Installs feature."
   ]
  },
  {
   "cell_type": "code",
   "execution_count": 62,
   "id": "d3e70dd5",
   "metadata": {
    "scrolled": false
   },
   "outputs": [
    {
     "data": {
      "image/png": "[encoded data removed]",
      "text/plain": [
       "<Figure size 1000x200 with 1 Axes>"
      ]
     },
     "metadata": {},
     "output_type": "display_data"
    }
   ],
   "source": [
    "plt.style.use('default')\n",
    "\n",
    "for i in enumerate(numeric_var[2:3]):\n",
    "    \n",
    "    title=i[1]\n",
    "    fig, (ax1) = plt.subplots(1,1,figsize=(10,2))\n",
    "    fig.suptitle('Outlier Data' + \" - \" + title[0].upper() + title[1:], fontsize=10, fontweight=\"bold\", x=0.09)\n",
    "    #boxplot/stripplot\n",
    "    sns.boxplot(x=i[1], data=df_apps, width=0.5,boxprops=dict(alpha=0.8), flierprops=flierprops, ax=ax1)\n",
    "    sns.stripplot(x=i[1],data=df_apps, jitter=True, alpha=0.3, color='green', s=3, ax=ax1)\n",
    "    plt.setp(ax1.get_xticklabels(), fontsize=10)\n",
    "    ax1.set_xlabel(i[1], fontsize=12)\n",
    "    \n",
    "plt.show()"
   ]
  },
  {
   "cell_type": "markdown",
   "id": "be569b50",
   "metadata": {},
   "source": [
    "Let us calculate Q1, Q3 and IQR:"
   ]
  },
  {
   "cell_type": "code",
   "execution_count": 63,
   "id": "5a27c015",
   "metadata": {
    "scrolled": false
   },
   "outputs": [
    {
     "name": "stdout",
     "output_type": "stream",
     "text": [
      "75% (3rd quantile value:) 1000000.0\n",
      "25% (1st quantile value:) 10000.0\n",
      "Median: 100000.0\n",
      "Inner Quartile Range (IQR) = Q3-Q1 : 990000.0\n"
     ]
    }
   ],
   "source": [
    "#calculte Q1, Q3 and IQR\n",
    "Q1 = df_apps.Installs.quantile(0.25)\n",
    "Q3 = df_apps.Installs.quantile(0.75)\n",
    "print(\"75% (3rd quantile value:) \" + str(Q3))\n",
    "print(\"25% (1st quantile value:) \" + str(Q1))\n",
    "print (\"Median: \" + str(df_apps.Installs.median()))\n",
    "IQR = Q3 - Q1\n",
    "print(\"Inner Quartile Range (IQR) = Q3-Q1 : \" + str(IQR))"
   ]
  },
  {
   "cell_type": "markdown",
   "id": "025d9df9",
   "metadata": {},
   "source": [
    "Calculate the upper and lower limits. Any value below the lower limit and any value above the upper limit\n",
    "are outliers."
   ]
  },
  {
   "cell_type": "code",
   "execution_count": 64,
   "id": "711590f9",
   "metadata": {
    "scrolled": false
   },
   "outputs": [
    {
     "name": "stdout",
     "output_type": "stream",
     "text": [
      "Lower Limit: -1475000.0\n",
      "Upper Limit: 2485000.0\n"
     ]
    }
   ],
   "source": [
    "# Calculate the upper and lower limits  (any value below the lower limit and any value above the upper limit\n",
    "# are outliers)\n",
    "\n",
    "Lower_L = Q1 - 1.5*IQR\n",
    "Upper_L = Q3 + 1.5*IQR\n",
    "\n",
    "print(\"Lower Limit: \" + str(Lower_L))\n",
    "\n",
    "print(\"Upper Limit: \" + str(Upper_L))"
   ]
  },
  {
   "cell_type": "markdown",
   "id": "1322ff10",
   "metadata": {},
   "source": [
    "List of Install outliers:"
   ]
  },
  {
   "cell_type": "code",
   "execution_count": 65,
   "id": "4c4ec787",
   "metadata": {
    "scrolled": false
   },
   "outputs": [
    {
     "data": {
      "text/plain": [
       "array([   5000000,   50000000,   10000000,  100000000,  500000000,\n",
       "       1000000000])"
      ]
     },
     "execution_count": 65,
     "metadata": {},
     "output_type": "execute_result"
    }
   ],
   "source": [
    "#Identify the outliers\n",
    "installs_outliers = df_apps.loc[(df_apps['Installs'] > Upper_L) | (df_apps['Installs'] < Lower_L)]\n",
    "unique_installs_outliers = installs_outliers[\"Installs\"].unique()\n",
    "unique_installs_outliers\n"
   ]
  },
  {
   "cell_type": "markdown",
   "id": "429a2981",
   "metadata": {},
   "source": [
    "Using boxplot_stats we can confirm the outliers data we calculated above:"
   ]
  },
  {
   "cell_type": "code",
   "execution_count": 66,
   "id": "c9e1427b",
   "metadata": {
    "scrolled": false
   },
   "outputs": [
    {
     "data": {
      "text/plain": [
       "array([   5000000,   10000000,   50000000,  100000000,  500000000,\n",
       "       1000000000])"
      ]
     },
     "execution_count": 66,
     "metadata": {},
     "output_type": "execute_result"
    }
   ],
   "source": [
    "#using boxplot_stats we can confirm the outlier data we calculated above \n",
    "installs_fliers = boxplot_stats(df_apps.Installs).pop(0)['fliers']\n",
    "np.unique(installs_fliers)"
   ]
  },
  {
   "cell_type": "code",
   "execution_count": 67,
   "id": "fed53b2d",
   "metadata": {
    "scrolled": false
   },
   "outputs": [
    {
     "data": {
      "text/plain": [
       "5000000"
      ]
     },
     "execution_count": 67,
     "metadata": {},
     "output_type": "execute_result"
    }
   ],
   "source": [
    "#select the max value any intstall can have (this will be the threshold)\n",
    "maxvalue_threshold = installs_fliers.min() #take the lowest value in outliers to treat it as the threshold max\n",
    "maxvalue_threshold"
   ]
  },
  {
   "cell_type": "code",
   "execution_count": 68,
   "id": "0686d492",
   "metadata": {
    "scrolled": false
   },
   "outputs": [
    {
     "name": "stdout",
     "output_type": "stream",
     "text": [
      "Records with Installs greater than 5MM:  994\n",
      "Shape of dataframe : (7483, 13)\n"
     ]
    }
   ],
   "source": [
    "df_filtered_Outlier_Installs = df_apps.loc[(df_apps['Installs'] > 5000000)]\n",
    "print(\"Records with Installs greater than 5MM: \" ,df_filtered_Outlier_Installs.Installs.count())\n",
    "print(\"Shape of dataframe :\", df_apps.shape)"
   ]
  },
  {
   "cell_type": "code",
   "execution_count": 69,
   "id": "49606eb7",
   "metadata": {
    "scrolled": false
   },
   "outputs": [
    {
     "data": {
      "text/plain": [
       "(6489, 13)"
      ]
     },
     "execution_count": 69,
     "metadata": {},
     "output_type": "execute_result"
    }
   ],
   "source": [
    "#Drop those apps with installs above threshold\n",
    "df_apps.drop(df_apps.loc[(df_apps['Installs'] > maxvalue_threshold)].index, inplace = True)\n",
    "df_apps.shape"
   ]
  },
  {
   "cell_type": "markdown",
   "id": "66df4e18",
   "metadata": {},
   "source": [
    "# Bivariate Analysis "
   ]
  },
  {
   "cell_type": "markdown",
   "id": "1746b835",
   "metadata": {},
   "source": [
    "Study the predicator features and how they relate to the target feature (Rating). Make scatter plots for the Numeric features and box plots for the category features to assess the relationship between target variable (rating) and the independent features in our dataset."
   ]
  },
  {
   "cell_type": "code",
   "execution_count": 70,
   "id": "7dde5ec7",
   "metadata": {
    "scrolled": false
   },
   "outputs": [
    {
     "name": "stdout",
     "output_type": "stream",
     "text": [
      "<class 'pandas.core.frame.DataFrame'>\n",
      "Int64Index: 6489 entries, 0 to 9357\n",
      "Data columns (total 13 columns):\n",
      " #   Column          Non-Null Count  Dtype  \n",
      "---  ------          --------------  -----  \n",
      " 0   App             6489 non-null   object \n",
      " 1   Category        6489 non-null   object \n",
      " 2   Rating          6489 non-null   float64\n",
      " 3   Reviews         6489 non-null   float64\n",
      " 4   Installs        6489 non-null   int64  \n",
      " 5   Type            6489 non-null   object \n",
      " 6   Price           6489 non-null   float64\n",
      " 7   Content Rating  6489 non-null   object \n",
      " 8   Genres          6489 non-null   object \n",
      " 9   Last Updated    6489 non-null   object \n",
      " 10  Current Ver     6489 non-null   object \n",
      " 11  Android Ver     6489 non-null   object \n",
      " 12  Size            6489 non-null   float64\n",
      "dtypes: float64(4), int64(1), object(8)\n",
      "memory usage: 709.7+ KB\n"
     ]
    }
   ],
   "source": [
    "df_apps.info()"
   ]
  },
  {
   "cell_type": "code",
   "execution_count": 71,
   "id": "b6400f8e",
   "metadata": {
    "scrolled": false
   },
   "outputs": [],
   "source": [
    "#Drop columns not applicable to the analysis\n",
    "#Last Updated , Current Ver, Android Ver, App\n",
    "df_apps.drop(['App','Last Updated', 'Current Ver', 'Android Ver'], axis=1, inplace=True)"
   ]
  },
  {
   "cell_type": "code",
   "execution_count": 72,
   "id": "f2ac629e",
   "metadata": {
    "scrolled": true
   },
   "outputs": [
    {
     "data": {
      "text/plain": [
       "Category           object\n",
       "Rating            float64\n",
       "Reviews           float64\n",
       "Installs            int64\n",
       "Type               object\n",
       "Price             float64\n",
       "Content Rating     object\n",
       "Genres             object\n",
       "Size              float64\n",
       "dtype: object"
      ]
     },
     "execution_count": 72,
     "metadata": {},
     "output_type": "execute_result"
    }
   ],
   "source": [
    "df_apps.dtypes"
   ]
  },
  {
   "cell_type": "code",
   "execution_count": 73,
   "id": "1f860a91",
   "metadata": {
    "scrolled": true
   },
   "outputs": [],
   "source": [
    "#Bin size groups\n",
    "df_apps['size_groups'] = pd.cut(x=df_apps['Size'], bins=3, labels=[\"small\", \"medium\", \"large\"]).astype(\"object\")"
   ]
  },
  {
   "cell_type": "code",
   "execution_count": 74,
   "id": "0b23e03c",
   "metadata": {
    "scrolled": true
   },
   "outputs": [],
   "source": [
    "#Bin reviews groups\n",
    "df_apps['reviews_groups'] = pd.cut(x=df_apps['Reviews'], bins=3, labels=[\"low\", \"medium\", \"high\"]).astype(\"object\")"
   ]
  },
  {
   "cell_type": "code",
   "execution_count": 75,
   "id": "f6557abb",
   "metadata": {
    "scrolled": false
   },
   "outputs": [
    {
     "name": "stdout",
     "output_type": "stream",
     "text": [
      "['Category', 'Type', 'Content Rating', 'Genres', 'size_groups', 'reviews_groups']\n"
     ]
    }
   ],
   "source": [
    "#Performing Univariate Analysis - identify character features\n",
    "category = ['object']\n",
    "category_var = []            #initialize \n",
    "for each in df_apps.columns: #for each column that is object\n",
    "    if df_apps[each].dtypes in category:\n",
    "        category_var.append(each)\n",
    "\n",
    "print(category_var)"
   ]
  },
  {
   "cell_type": "markdown",
   "id": "2529e9b4",
   "metadata": {},
   "source": [
    "## Rating vs Price"
   ]
  },
  {
   "cell_type": "code",
   "execution_count": 76,
   "id": "a886e895",
   "metadata": {
    "scrolled": false
   },
   "outputs": [
    {
     "data": {
      "image/png": "[encoded data removed]",
      "text/plain": [
       "<Figure size 500x300 with 1 Axes>"
      ]
     },
     "metadata": {},
     "output_type": "display_data"
    }
   ],
   "source": [
    "plt.figure(figsize=(5,3))\n",
    "a = sns.scatterplot(x=\"Price\", y=\"Rating\", color=['darkseagreen'], s=22, data=df_apps)\n",
    "sns.despine()\n",
    "\n",
    "plt.show()"
   ]
  },
  {
   "cell_type": "code",
   "execution_count": 77,
   "id": "10bff072",
   "metadata": {
    "scrolled": true
   },
   "outputs": [
    {
     "name": "stdout",
     "output_type": "stream",
     "text": [
      "\u001b[1m\u001b[32mSummary Statistics feature - Type:\u001b[0m\n",
      "\n",
      "Type               Free     Paid\n",
      "total_apps      5930.00   559.00\n",
      "%_of_apps         91.39     8.61\n",
      "mean_price         0.00     5.08\n",
      "mean_rating        4.13     4.26\n",
      "mean_reviews   17813.49  6520.25\n",
      "mean_installs 728744.93 66940.57\n",
      "mean_size      20221.04 20959.45\n"
     ]
    }
   ],
   "source": [
    "y=df_apps['Type'].count()\n",
    "\n",
    "for i in enumerate(category_var[1:2]):\n",
    "\n",
    "    print(colored((\"Summary Statistics feature - \" + i[1] + \":\"),'green',attrs=['bold']))\n",
    "    print(\"\")\n",
    "    def my_agg(x):\n",
    "        names = {\n",
    "            'total_apps'   : x[i[1]].count(),\n",
    "            '%_of_apps'    : (x[i[1]].count()/y)*100,\n",
    "            'mean_price'   : x['Price'].mean(),\n",
    "            'mean_rating'  : x['Rating'].mean(),\n",
    "            'mean_reviews' : x['Reviews'].mean(),\n",
    "            'mean_installs': x['Installs'].mean(),\n",
    "            'mean_size'    : x['Size'].mean()\n",
    "        }\n",
    "        \n",
    "        return pd.Series(names, index=['total_apps','%_of_apps','mean_price','mean_rating','mean_reviews',\n",
    "                                       'mean_installs','mean_size'])\n",
    "    stats = df_apps.groupby([i[1]]).apply(my_agg).round(2)\n",
    "    print(np.transpose(stats))"
   ]
  },
  {
   "cell_type": "code",
   "execution_count": 78,
   "id": "133b6ad7",
   "metadata": {
    "scrolled": false
   },
   "outputs": [
    {
     "data": {
      "text/html": [
       "<div>\n",
       "<style scoped>\n",
       "    .dataframe tbody tr th:only-of-type {\n",
       "        vertical-align: middle;\n",
       "    }\n",
       "\n",
       "    .dataframe tbody tr th {\n",
       "        vertical-align: top;\n",
       "    }\n",
       "\n",
       "    .dataframe thead th {\n",
       "        text-align: right;\n",
       "    }\n",
       "</style>\n",
       "<table border=\"1\" class=\"dataframe\">\n",
       "  <thead>\n",
       "    <tr style=\"text-align: right;\">\n",
       "      <th></th>\n",
       "      <th>Price</th>\n",
       "      <th>Rating</th>\n",
       "    </tr>\n",
       "  </thead>\n",
       "  <tbody>\n",
       "    <tr>\n",
       "      <th>Price</th>\n",
       "      <td>1.00</td>\n",
       "      <td>0.03</td>\n",
       "    </tr>\n",
       "    <tr>\n",
       "      <th>Rating</th>\n",
       "      <td>0.03</td>\n",
       "      <td>1.00</td>\n",
       "    </tr>\n",
       "  </tbody>\n",
       "</table>\n",
       "</div>"
      ],
      "text/plain": [
       "        Price  Rating\n",
       "Price    1.00    0.03\n",
       "Rating   0.03    1.00"
      ]
     },
     "execution_count": 78,
     "metadata": {},
     "output_type": "execute_result"
    }
   ],
   "source": [
    "# Measuring correlation between Price and Rating\n",
    "df_apps[['Price','Rating']].corr()"
   ]
  },
  {
   "cell_type": "markdown",
   "id": "14fa7d8e",
   "metadata": {},
   "source": [
    "**Rating vs Price Observations:** From the scatter plot we can observe a non-linear pattern in the data between Price and Rating.  There appears to be little correlation between the price of an app and its rating score.  Apps that are free of charge and apps that require a paid subscription generally rate the same. Paid apps only slightly out-score free apps by 0.13%. The mean rating for free apps is 4.13, while the mean rating score for paid apps is 4.26. "
   ]
  },
  {
   "cell_type": "markdown",
   "id": "d96a600b",
   "metadata": {},
   "source": [
    "## Rating vs Size"
   ]
  },
  {
   "cell_type": "code",
   "execution_count": 79,
   "id": "ddea9fd2",
   "metadata": {
    "scrolled": false
   },
   "outputs": [
    {
     "data": {
      "image/png": "[encoded data removed]",
      "text/plain": [
       "<Figure size 500x300 with 1 Axes>"
      ]
     },
     "metadata": {},
     "output_type": "display_data"
    }
   ],
   "source": [
    "plt.figure(figsize=(5,3))\n",
    "a = sns.scatterplot(x=\"Size\", y=\"Rating\", color=['darkseagreen'], s=22, data=df_apps)\n",
    "sns.despine()\n",
    "\n",
    "plt.show()"
   ]
  },
  {
   "cell_type": "code",
   "execution_count": 80,
   "id": "226f669e",
   "metadata": {
    "scrolled": true
   },
   "outputs": [
    {
     "name": "stdout",
     "output_type": "stream",
     "text": [
      "\u001b[1m\u001b[32mSummary Statistics feature - size_groups:\u001b[0m\n",
      "\n",
      "size_groups       small     medium      large\n",
      "total_apps      5161.00     982.00     346.00\n",
      "%_of_apps         79.53      15.13       5.33\n",
      "mean_price         0.42       0.46       0.61\n",
      "mean_rating        4.14       4.16       4.22\n",
      "mean_reviews   12765.24   27981.89   46009.20\n",
      "mean_installs 565264.09 1003658.39 1317793.87\n",
      "mean_size      11093.60   46405.30   83245.66\n"
     ]
    }
   ],
   "source": [
    "y=df_apps['size_groups'].count()\n",
    "\n",
    "for i in enumerate(category_var[4:5]):\n",
    "\n",
    "    print(colored((\"Summary Statistics feature - \" + i[1] + \":\"),'green',attrs=['bold']))\n",
    "    print(\"\")\n",
    "    def my_agg(x):\n",
    "        names = {\n",
    "            'total_apps'   : x[i[1]].count(),\n",
    "            '%_of_apps'    : (x[i[1]].count()/y)*100,\n",
    "            'mean_price'   : x['Price'].mean(),\n",
    "            'mean_rating'  : x['Rating'].mean(),\n",
    "            'mean_reviews' : x['Reviews'].mean(),\n",
    "            'mean_installs': x['Installs'].mean(),\n",
    "            'mean_size'    : x['Size'].mean()\n",
    "        }\n",
    "        \n",
    "        return pd.Series(names, index=['total_apps','%_of_apps','mean_price','mean_rating','mean_reviews',\n",
    "                                       'mean_installs','mean_size'])\n",
    "    stats = df_apps.groupby([i[1]]).apply(my_agg).round(2).sort_values(by=['total_apps'],ascending=False)\n",
    "    print(np.transpose(stats))"
   ]
  },
  {
   "cell_type": "code",
   "execution_count": 81,
   "id": "2db1e6d4",
   "metadata": {
    "scrolled": true
   },
   "outputs": [
    {
     "data": {
      "text/html": [
       "<div>\n",
       "<style scoped>\n",
       "    .dataframe tbody tr th:only-of-type {\n",
       "        vertical-align: middle;\n",
       "    }\n",
       "\n",
       "    .dataframe tbody tr th {\n",
       "        vertical-align: top;\n",
       "    }\n",
       "\n",
       "    .dataframe thead th {\n",
       "        text-align: right;\n",
       "    }\n",
       "</style>\n",
       "<table border=\"1\" class=\"dataframe\">\n",
       "  <thead>\n",
       "    <tr style=\"text-align: right;\">\n",
       "      <th></th>\n",
       "      <th>Size</th>\n",
       "      <th>Rating</th>\n",
       "    </tr>\n",
       "  </thead>\n",
       "  <tbody>\n",
       "    <tr>\n",
       "      <th>Size</th>\n",
       "      <td>1.00</td>\n",
       "      <td>0.04</td>\n",
       "    </tr>\n",
       "    <tr>\n",
       "      <th>Rating</th>\n",
       "      <td>0.04</td>\n",
       "      <td>1.00</td>\n",
       "    </tr>\n",
       "  </tbody>\n",
       "</table>\n",
       "</div>"
      ],
      "text/plain": [
       "        Size  Rating\n",
       "Size    1.00    0.04\n",
       "Rating  0.04    1.00"
      ]
     },
     "execution_count": 81,
     "metadata": {},
     "output_type": "execute_result"
    }
   ],
   "source": [
    "# Measuring correlation between Size and Rating\n",
    "df_apps[['Size','Rating']].corr()"
   ]
  },
  {
   "cell_type": "markdown",
   "id": "38893f9f",
   "metadata": {},
   "source": [
    "**Rating vs Size Observations:** From the scatter plot we can observe a non-linear pattern in the data between Size and Rating.  There appears to be little correlation between the size of an app and its rating score.  After binning the Size feature into groups, we can note that there is relatively little change in rating score between the apps.  Small sized apps which make-up nearly 80% of the apps in total, had a rating of 4.14, while medium and large sized apps rated 4.16 and 4.22, respectively."
   ]
  },
  {
   "cell_type": "markdown",
   "id": "e82b19e6",
   "metadata": {},
   "source": [
    "## Rating vs Reviews"
   ]
  },
  {
   "cell_type": "code",
   "execution_count": 82,
   "id": "411280ee",
   "metadata": {
    "scrolled": false
   },
   "outputs": [
    {
     "data": {
      "image/png": "[encoded data removed]",
      "text/plain": [
       "<Figure size 500x300 with 1 Axes>"
      ]
     },
     "metadata": {},
     "output_type": "display_data"
    }
   ],
   "source": [
    "plt.figure(figsize=(5,3))\n",
    "a = sns.scatterplot(x=\"Reviews\", y=\"Rating\", color=['darkseagreen'], s=22, data=df_apps)\n",
    "sns.despine()\n",
    "\n",
    "plt.show()"
   ]
  },
  {
   "cell_type": "code",
   "execution_count": 83,
   "id": "0422f288",
   "metadata": {
    "scrolled": true
   },
   "outputs": [
    {
     "name": "stdout",
     "output_type": "stream",
     "text": [
      "\u001b[1m\u001b[32mSummary Statistics feature - reviews_groups:\u001b[0m\n",
      "\n",
      "reviews_groups       low     medium       high\n",
      "total_apps       6460.00      27.00       2.00\n",
      "%_of_apps          99.55       0.42       0.03\n",
      "mean_price          0.44       0.26       0.00\n",
      "mean_rating         4.14       4.49       4.65\n",
      "mean_reviews    14969.46  404973.11  820901.00\n",
      "mean_installs  654160.56 4555555.56 5000000.00\n",
      "mean_size       20180.59   43366.67   44800.00\n"
     ]
    }
   ],
   "source": [
    "y=df_apps['reviews_groups'].count()\n",
    "\n",
    "for i in enumerate(category_var[5:6]):\n",
    "\n",
    "    print(colored((\"Summary Statistics feature - \" + i[1] + \":\"),'green',attrs=['bold']))\n",
    "    print(\"\")\n",
    "    def my_agg(x):\n",
    "        names = {\n",
    "            'total_apps'   : x[i[1]].count(),\n",
    "            '%_of_apps'    : (x[i[1]].count()/y)*100,\n",
    "            'mean_price'   : x['Price'].mean(),\n",
    "            'mean_rating'  : x['Rating'].mean(),\n",
    "            'mean_reviews' : x['Reviews'].mean(),\n",
    "            'mean_installs': x['Installs'].mean(),\n",
    "            'mean_size'    : x['Size'].mean()\n",
    "        }\n",
    "        \n",
    "        return pd.Series(names, index=['total_apps','%_of_apps','mean_price','mean_rating','mean_reviews',\n",
    "                                       'mean_installs','mean_size'])\n",
    "    stats = df_apps.groupby([i[1]]).apply(my_agg).round(2).sort_values(by=['total_apps'],ascending=False)\n",
    "    print(np.transpose(stats))"
   ]
  },
  {
   "cell_type": "code",
   "execution_count": 84,
   "id": "fca015f0",
   "metadata": {
    "scrolled": true
   },
   "outputs": [
    {
     "data": {
      "text/html": [
       "<div>\n",
       "<style scoped>\n",
       "    .dataframe tbody tr th:only-of-type {\n",
       "        vertical-align: middle;\n",
       "    }\n",
       "\n",
       "    .dataframe tbody tr th {\n",
       "        vertical-align: top;\n",
       "    }\n",
       "\n",
       "    .dataframe thead th {\n",
       "        text-align: right;\n",
       "    }\n",
       "</style>\n",
       "<table border=\"1\" class=\"dataframe\">\n",
       "  <thead>\n",
       "    <tr style=\"text-align: right;\">\n",
       "      <th></th>\n",
       "      <th>Reviews</th>\n",
       "      <th>Rating</th>\n",
       "    </tr>\n",
       "  </thead>\n",
       "  <tbody>\n",
       "    <tr>\n",
       "      <th>Reviews</th>\n",
       "      <td>1.00</td>\n",
       "      <td>0.13</td>\n",
       "    </tr>\n",
       "    <tr>\n",
       "      <th>Rating</th>\n",
       "      <td>0.13</td>\n",
       "      <td>1.00</td>\n",
       "    </tr>\n",
       "  </tbody>\n",
       "</table>\n",
       "</div>"
      ],
      "text/plain": [
       "         Reviews  Rating\n",
       "Reviews     1.00    0.13\n",
       "Rating      0.13    1.00"
      ]
     },
     "execution_count": 84,
     "metadata": {},
     "output_type": "execute_result"
    }
   ],
   "source": [
    "# Measuring correlation between Size and Rating\n",
    "df_apps[['Reviews','Rating']].corr()"
   ]
  },
  {
   "cell_type": "code",
   "execution_count": 85,
   "id": "045889a7",
   "metadata": {
    "scrolled": true
   },
   "outputs": [],
   "source": [
    "#df_apps.to_excel(r'/Users/samiai.masri/Documents/MastersProgram/6_Python/Project/reviews.xlsx', index = False)"
   ]
  },
  {
   "cell_type": "markdown",
   "id": "55871710",
   "metadata": {},
   "source": [
    "**Rating vs Reviews Observations:** From the scatter plot we can observe a non-linear pattern in the data between number of Reviews and Rating.  There appears to be little correlation between the the number of reviews an app receives and its rating score.  However, the scatter graph does suggest that apps with a higher number of reviews generally tend to have high rating scores.  On average, apps with a high number of reviews received a rating score of 4.65%, while those apps with a low number of reviews scored on average 4.14; that is a 0.51% difference in scores."
   ]
  },
  {
   "cell_type": "markdown",
   "id": "740bfdfe",
   "metadata": {},
   "source": [
    "## Rating vs. Content Rating"
   ]
  },
  {
   "cell_type": "code",
   "execution_count": 86,
   "id": "394bee2d",
   "metadata": {
    "scrolled": false
   },
   "outputs": [
    {
     "data": {
      "image/png": "[encoded data removed]",
      "text/plain": [
       "<Figure size 800x400 with 1 Axes>"
      ]
     },
     "metadata": {},
     "output_type": "display_data"
    }
   ],
   "source": [
    "#BoxPlot for Rating vs Content Rating:\n",
    "plt.figure(figsize=(8,4))\n",
    "\n",
    "ax=sns.boxplot(data=df_apps, x='Content Rating', y='Rating', orient='v',  palette=\"Set3\", flierprops=flierprops)\n",
    "plt.xlabel(\"Content Rating\", size=11)\n",
    "plt.ylabel(\"Rating\", size=11)\n",
    "ax.tick_params(axis='x', labelsize=8)\n",
    "ax.tick_params(axis='y', labelsize=8)\n",
    "plt.show()"
   ]
  },
  {
   "cell_type": "code",
   "execution_count": 87,
   "id": "ddb5391a",
   "metadata": {
    "scrolled": false
   },
   "outputs": [
    {
     "name": "stdout",
     "output_type": "stream",
     "text": [
      "\u001b[1m\u001b[32mSummary Statistics feature - Content Rating:\u001b[0m\n",
      "\n",
      "Content Rating  Everyone       Teen  Mature 17+  Everyone 10+  \\\n",
      "total_apps       5296.00     666.00      311.00        213.00   \n",
      "%_of_apps          81.62      10.26        4.79          3.28   \n",
      "mean_price          0.45       0.33        0.32          0.66   \n",
      "mean_rating         4.14       4.19        4.07          4.20   \n",
      "mean_reviews    13478.20   35812.73    19727.33      36791.57   \n",
      "mean_installs  613654.45 1078295.95   650234.50     878146.53   \n",
      "mean_size       18284.77   30075.37    24212.88      33700.60   \n",
      "\n",
      "Content Rating  Adults only 18+  Unrated  \n",
      "total_apps                 2.00     1.00  \n",
      "%_of_apps                  0.03     0.02  \n",
      "mean_price                 0.00     0.00  \n",
      "mean_rating                4.55     4.10  \n",
      "mean_reviews           37011.00  1186.00  \n",
      "mean_installs         750000.00 50000.00  \n",
      "mean_size              22950.00  6400.00  \n"
     ]
    }
   ],
   "source": [
    "y=df_apps['Content Rating'].count()\n",
    "\n",
    "for i in enumerate(category_var[2:3]):\n",
    "\n",
    "    print(colored((\"Summary Statistics feature - \" + i[1] + \":\"),'green',attrs=['bold']))\n",
    "    print(\"\")\n",
    "    def my_agg(x):\n",
    "        names = {\n",
    "            'total_apps'   : x[i[1]].count(),\n",
    "            '%_of_apps'    : (x[i[1]].count()/y)*100,\n",
    "            'mean_price'   : x['Price'].mean(),\n",
    "            'mean_rating'  : x['Rating'].mean(),\n",
    "            'mean_reviews' : x['Reviews'].mean(),\n",
    "            'mean_installs': x['Installs'].mean(),\n",
    "            'mean_size'    : x['Size'].mean()\n",
    "        }\n",
    "        \n",
    "        return pd.Series(names, index=['total_apps','%_of_apps','mean_price','mean_rating','mean_reviews',\n",
    "                                       'mean_installs','mean_size'])\n",
    "    stats = df_apps.groupby([i[1]]).apply(my_agg).round(2).sort_values(by=['total_apps'],ascending=False)\n",
    "    print(np.transpose(stats))"
   ]
  },
  {
   "cell_type": "markdown",
   "id": "e45b13ee",
   "metadata": {},
   "source": [
    "**Rating vs Content Rating Observations:** From the boxplot we can observe an overlap in rating score among Content Rating feature.  This implies the rating scores are relatively comparable to each other.  The \"Adults only 18+\" Content Rating draws a rating score that is slightly higher than the other groups.  Note, however, there appear to be potential outliers in the data that may be skewing the mean rating scores for the Content Rating groups. "
   ]
  },
  {
   "cell_type": "markdown",
   "id": "fbd52301",
   "metadata": {},
   "source": [
    "## Rating vs Category "
   ]
  },
  {
   "cell_type": "code",
   "execution_count": 88,
   "id": "f9d76ce7",
   "metadata": {
    "scrolled": false
   },
   "outputs": [
    {
     "data": {
      "image/png": "[encoded data removed]",
      "text/plain": [
       "<Figure size 2500x1000 with 1 Axes>"
      ]
     },
     "metadata": {},
     "output_type": "display_data"
    }
   ],
   "source": [
    "#BoxPlot for Rating vs Category:\n",
    "\n",
    "plt.figure(figsize=(25,10))\n",
    "\n",
    "ax=sns.boxplot(data=df_apps, x='Category', y='Rating', orient='v',  palette=\"light:b\", flierprops=flierprops)\n",
    "plt.xlabel(\"Category\", size=15)\n",
    "plt.ylabel(\"Rating\", size=15)\n",
    "ax.tick_params(axis='x', labelsize=11, rotation=90)\n",
    "ax.tick_params(axis='y', labelsize=11)\n",
    "sns.despine()\n",
    "\n",
    "medians = df_apps.groupby(['Category'])['Rating'].median()\n",
    "vertical_offset = df_apps['Rating'].median() * 0.12 # offset from median for display\n",
    "\n",
    "for xtick in ax.get_xticks():\n",
    "    ax.text(xtick,medians[xtick] + vertical_offset,medians[xtick], \n",
    "            horizontalalignment='center',size=11,color='black',weight='semibold')\n",
    "\n",
    "plt.show()"
   ]
  },
  {
   "cell_type": "code",
   "execution_count": 89,
   "id": "11d297c4",
   "metadata": {
    "scrolled": true
   },
   "outputs": [
    {
     "name": "stdout",
     "output_type": "stream",
     "text": [
      "\u001b[1m\u001b[32mSummary Statistics feature - Category:\u001b[0m\n",
      "\n",
      "                     total_apps  %_of_apps  median_rating\n",
      "Category                                                 \n",
      "EVENTS                    38.00       0.59           4.50\n",
      "ART_AND_DESIGN            54.00       0.83           4.40\n",
      "BOOKS_AND_REFERENCE      136.00       2.10           4.40\n",
      "COMICS                    49.00       0.76           4.40\n",
      "PARENTING                 43.00       0.66           4.40\n",
      "EDUCATION                 95.00       1.46           4.40\n",
      "HEALTH_AND_FITNESS       203.00       3.13           4.40\n",
      "GAME                     593.00       9.14           4.30\n",
      "SPORTS                   205.00       3.16           4.30\n",
      "SOCIAL                   142.00       2.19           4.30\n"
     ]
    }
   ],
   "source": [
    "y=df_apps['Category'].count()\n",
    "\n",
    "for i in enumerate(category_var[0:1]):\n",
    "\n",
    "    print(colored((\"Summary Statistics feature - \" + i[1] + \":\"),'green',attrs=['bold']))\n",
    "    print(\"\")\n",
    "    def my_agg(x):\n",
    "        names = {\n",
    "            'total_apps'   : x[i[1]].count(),\n",
    "            '%_of_apps'    : (x[i[1]].count()/y)*100,\n",
    "            'median_rating'  : x['Rating'].median()\n",
    "        }\n",
    "        \n",
    "        return pd.Series(names, index=['total_apps','%_of_apps','median_rating'])\n",
    "    stats = df_apps.groupby([i[1]]).apply(my_agg).round(2).sort_values(by=['median_rating'],\n",
    "                                                                       ascending=False).head(10)\n",
    "\n",
    "    print(stats)"
   ]
  },
  {
   "cell_type": "markdown",
   "id": "182a580f",
   "metadata": {},
   "source": [
    "**Rating vs Category Observations:** From the boxplot we can observe that the Events category with a median rating score of 4.5 leads all the other categories in ratings. "
   ]
  },
  {
   "cell_type": "markdown",
   "id": "daff64d0",
   "metadata": {},
   "source": [
    "# Data Preprocessing"
   ]
  },
  {
   "cell_type": "code",
   "execution_count": 90,
   "id": "5a3852ee",
   "metadata": {},
   "outputs": [
    {
     "data": {
      "text/plain": [
       "Category           object\n",
       "Rating            float64\n",
       "Reviews           float64\n",
       "Installs            int64\n",
       "Type               object\n",
       "Price             float64\n",
       "Content Rating     object\n",
       "Genres             object\n",
       "Size              float64\n",
       "size_groups        object\n",
       "reviews_groups     object\n",
       "dtype: object"
      ]
     },
     "execution_count": 90,
     "metadata": {},
     "output_type": "execute_result"
    }
   ],
   "source": [
    "df_apps.dtypes"
   ]
  },
  {
   "cell_type": "code",
   "execution_count": 91,
   "id": "462faab8",
   "metadata": {},
   "outputs": [],
   "source": [
    "#Drop the binned group features used in the analysis above, and no longer applicable to analysis next steps\n",
    "df_apps.drop(['size_groups','reviews_groups'], axis=1, inplace=True)"
   ]
  },
  {
   "cell_type": "code",
   "execution_count": 92,
   "id": "a10a40dc",
   "metadata": {},
   "outputs": [],
   "source": [
    "#Make a copy of the dataframe\n",
    "inp1 = df_apps.copy()"
   ]
  },
  {
   "cell_type": "markdown",
   "id": "0cb9b12d",
   "metadata": {},
   "source": [
    "## Log transformation "
   ]
  },
  {
   "cell_type": "markdown",
   "id": "ceabbfa4",
   "metadata": {},
   "source": [
    "Reviews and Installs have some values that are still relatively high.  Before building a linear regression model,\n",
    "we need to reduce the skew."
   ]
  },
  {
   "cell_type": "code",
   "execution_count": 93,
   "id": "a3997da5",
   "metadata": {},
   "outputs": [
    {
     "data": {
      "image/png": "[encoded data removed]",
      "text/plain": [
       "<Figure size 1000x500 with 2 Axes>"
      ]
     },
     "metadata": {},
     "output_type": "display_data"
    }
   ],
   "source": [
    "fig=plt.figure(figsize=(10,5))\n",
    "\n",
    "for i in enumerate(numeric_var[1:3]):\n",
    "    plt.subplot(2,3,i[0]+1)\n",
    "    ax=sns.histplot(data=inp1, x=i[1],element='step',palette=['darkseagreen'],bins=10, kde=True)\n",
    "    plt.xlabel(i[1],  fontsize=10)\n",
    "    plt.ylabel(\"frequency\", fontsize=10)\n",
    "    plt.axvline(x=df_apps[i[1]].mean(),ls='--', lw=1.5, c='r')\n",
    "    plt.setp(ax.get_xticklabels(), fontsize=8)\n",
    "    plt.setp(ax.get_yticklabels(), fontsize=8)\n",
    "    min_ylim, max_ylim = plt.ylim()\n",
    "    plt.text(inp1[i[1]].mean()*1.1, max_ylim*0.9, 'Mean: {:.2f}'.format(inp1[i[1]].mean()))\n",
    "\n",
    "plt.tight_layout()\n",
    "plt.show()"
   ]
  },
  {
   "cell_type": "code",
   "execution_count": 94,
   "id": "78d4a27e",
   "metadata": {},
   "outputs": [
    {
     "data": {
      "text/html": [
       "<div>\n",
       "<style scoped>\n",
       "    .dataframe tbody tr th:only-of-type {\n",
       "        vertical-align: middle;\n",
       "    }\n",
       "\n",
       "    .dataframe tbody tr th {\n",
       "        vertical-align: top;\n",
       "    }\n",
       "\n",
       "    .dataframe thead th {\n",
       "        text-align: right;\n",
       "    }\n",
       "</style>\n",
       "<table border=\"1\" class=\"dataframe\">\n",
       "  <thead>\n",
       "    <tr style=\"text-align: right;\">\n",
       "      <th></th>\n",
       "      <th>Category</th>\n",
       "      <th>Rating</th>\n",
       "      <th>Reviews</th>\n",
       "      <th>Installs</th>\n",
       "      <th>Type</th>\n",
       "      <th>Price</th>\n",
       "      <th>Content Rating</th>\n",
       "      <th>Genres</th>\n",
       "      <th>Size</th>\n",
       "    </tr>\n",
       "  </thead>\n",
       "  <tbody>\n",
       "    <tr>\n",
       "      <th>0</th>\n",
       "      <td>ART_AND_DESIGN</td>\n",
       "      <td>4.10</td>\n",
       "      <td>5.08</td>\n",
       "      <td>9.21</td>\n",
       "      <td>Free</td>\n",
       "      <td>0.00</td>\n",
       "      <td>Everyone</td>\n",
       "      <td>Art &amp; Design</td>\n",
       "      <td>19000.00</td>\n",
       "    </tr>\n",
       "    <tr>\n",
       "      <th>1</th>\n",
       "      <td>ART_AND_DESIGN</td>\n",
       "      <td>3.90</td>\n",
       "      <td>6.88</td>\n",
       "      <td>13.12</td>\n",
       "      <td>Free</td>\n",
       "      <td>0.00</td>\n",
       "      <td>Everyone</td>\n",
       "      <td>Art &amp; Design;Pretend Play</td>\n",
       "      <td>14000.00</td>\n",
       "    </tr>\n",
       "  </tbody>\n",
       "</table>\n",
       "</div>"
      ],
      "text/plain": [
       "         Category  Rating  Reviews  Installs  Type  Price Content Rating  \\\n",
       "0  ART_AND_DESIGN    4.10     5.08      9.21  Free   0.00       Everyone   \n",
       "1  ART_AND_DESIGN    3.90     6.88     13.12  Free   0.00       Everyone   \n",
       "\n",
       "                      Genres     Size  \n",
       "0               Art & Design 19000.00  \n",
       "1  Art & Design;Pretend Play 14000.00  "
      ]
     },
     "execution_count": 94,
     "metadata": {},
     "output_type": "execute_result"
    }
   ],
   "source": [
    "#Apply log transformation (np.log1p) to Reviews and Installs\n",
    "inp1[\"Reviews\"]=np.log1p(inp1[\"Reviews\"])\n",
    "inp1[\"Installs\"]=np.log1p(inp1[\"Installs\"])\n",
    "inp1.head(2)"
   ]
  },
  {
   "cell_type": "code",
   "execution_count": 95,
   "id": "8b5396a1",
   "metadata": {},
   "outputs": [
    {
     "data": {
      "image/png": "[encoded data removed]",
      "text/plain": [
       "<Figure size 1000x500 with 2 Axes>"
      ]
     },
     "metadata": {},
     "output_type": "display_data"
    }
   ],
   "source": [
    "fig=plt.figure(figsize=(10,5))\n",
    "\n",
    "for i in enumerate(numeric_var[1:3]):\n",
    "    plt.subplot(2,3,i[0]+1)\n",
    "    ax=sns.histplot(data=inp1, x=i[1],element='step',palette=['darkseagreen'],bins=10, kde=True)\n",
    "    plt.xlabel(i[1],  fontsize=10)\n",
    "    plt.ylabel(\"frequency\", fontsize=10)\n",
    "    plt.axvline(x=inp1[i[1]].mean(),ls='--', lw=1.5, c='r')\n",
    "    plt.setp(ax.get_xticklabels(), fontsize=8)\n",
    "    plt.setp(ax.get_yticklabels(), fontsize=8)\n",
    "    min_ylim, max_ylim = plt.ylim()\n",
    "    plt.text(inp1[i[1]].mean()*1.1, max_ylim*0.9, 'Mean: {:.2f}'.format(inp1[i[1]].mean()))\n",
    "\n",
    "plt.tight_layout()\n",
    "plt.show()"
   ]
  },
  {
   "cell_type": "markdown",
   "id": "27c6bb39",
   "metadata": {},
   "source": [
    "## Dummy encoding "
   ]
  },
  {
   "cell_type": "markdown",
   "id": "8e9ae0e1",
   "metadata": {},
   "source": [
    "**Dummy encoding:** For our prediction model to execute, all features must be numeric. All categorical features need to be encoded with dummy data. Dummy encoding is one way to convert character fields to numeric. "
   ]
  },
  {
   "cell_type": "code",
   "execution_count": 96,
   "id": "7091befe",
   "metadata": {},
   "outputs": [
    {
     "data": {
      "text/plain": [
       "Category           object\n",
       "Rating            float64\n",
       "Reviews           float64\n",
       "Installs          float64\n",
       "Type               object\n",
       "Price             float64\n",
       "Content Rating     object\n",
       "Genres             object\n",
       "Size              float64\n",
       "dtype: object"
      ]
     },
     "execution_count": 96,
     "metadata": {},
     "output_type": "execute_result"
    }
   ],
   "source": [
    "inp1.dtypes"
   ]
  },
  {
   "cell_type": "markdown",
   "id": "e792d829",
   "metadata": {},
   "source": [
    "We need to dummy encode the features Category, Type, Content Rating and Genres."
   ]
  },
  {
   "cell_type": "code",
   "execution_count": 97,
   "id": "5dfcaa84",
   "metadata": {},
   "outputs": [
    {
     "name": "stdout",
     "output_type": "stream",
     "text": [
      "['Category', 'Type', 'Content Rating', 'Genres']\n"
     ]
    }
   ],
   "source": [
    "category = ['object']\n",
    "category_var = []            #initialize \n",
    "for each in inp1.columns: #for each column that is object\n",
    "    if inp1[each].dtypes in category:\n",
    "        category_var.append(each)\n",
    "\n",
    "print(category_var)"
   ]
  },
  {
   "cell_type": "code",
   "execution_count": 98,
   "id": "065fdd1e",
   "metadata": {},
   "outputs": [
    {
     "data": {
      "text/html": [
       "<div>\n",
       "<style scoped>\n",
       "    .dataframe tbody tr th:only-of-type {\n",
       "        vertical-align: middle;\n",
       "    }\n",
       "\n",
       "    .dataframe tbody tr th {\n",
       "        vertical-align: top;\n",
       "    }\n",
       "\n",
       "    .dataframe thead th {\n",
       "        text-align: right;\n",
       "    }\n",
       "</style>\n",
       "<table border=\"1\" class=\"dataframe\">\n",
       "  <thead>\n",
       "    <tr style=\"text-align: right;\">\n",
       "      <th></th>\n",
       "      <th>Rating</th>\n",
       "      <th>Reviews</th>\n",
       "      <th>Installs</th>\n",
       "      <th>Price</th>\n",
       "      <th>Size</th>\n",
       "      <th>Category_AUTO_AND_VEHICLES</th>\n",
       "      <th>Category_BEAUTY</th>\n",
       "      <th>Category_BOOKS_AND_REFERENCE</th>\n",
       "      <th>Category_BUSINESS</th>\n",
       "      <th>Category_COMICS</th>\n",
       "      <th>...</th>\n",
       "      <th>Genres_Strategy;Education</th>\n",
       "      <th>Genres_Tools</th>\n",
       "      <th>Genres_Travel &amp; Local</th>\n",
       "      <th>Genres_Travel &amp; Local;Action &amp; Adventure</th>\n",
       "      <th>Genres_Trivia</th>\n",
       "      <th>Genres_Video Players &amp; Editors</th>\n",
       "      <th>Genres_Video Players &amp; Editors;Creativity</th>\n",
       "      <th>Genres_Video Players &amp; Editors;Music &amp; Video</th>\n",
       "      <th>Genres_Weather</th>\n",
       "      <th>Genres_Word</th>\n",
       "    </tr>\n",
       "  </thead>\n",
       "  <tbody>\n",
       "    <tr>\n",
       "      <th>0</th>\n",
       "      <td>4.10</td>\n",
       "      <td>5.08</td>\n",
       "      <td>9.21</td>\n",
       "      <td>0.00</td>\n",
       "      <td>19000.00</td>\n",
       "      <td>0</td>\n",
       "      <td>0</td>\n",
       "      <td>0</td>\n",
       "      <td>0</td>\n",
       "      <td>0</td>\n",
       "      <td>...</td>\n",
       "      <td>0</td>\n",
       "      <td>0</td>\n",
       "      <td>0</td>\n",
       "      <td>0</td>\n",
       "      <td>0</td>\n",
       "      <td>0</td>\n",
       "      <td>0</td>\n",
       "      <td>0</td>\n",
       "      <td>0</td>\n",
       "      <td>0</td>\n",
       "    </tr>\n",
       "    <tr>\n",
       "      <th>1</th>\n",
       "      <td>3.90</td>\n",
       "      <td>6.88</td>\n",
       "      <td>13.12</td>\n",
       "      <td>0.00</td>\n",
       "      <td>14000.00</td>\n",
       "      <td>0</td>\n",
       "      <td>0</td>\n",
       "      <td>0</td>\n",
       "      <td>0</td>\n",
       "      <td>0</td>\n",
       "      <td>...</td>\n",
       "      <td>0</td>\n",
       "      <td>0</td>\n",
       "      <td>0</td>\n",
       "      <td>0</td>\n",
       "      <td>0</td>\n",
       "      <td>0</td>\n",
       "      <td>0</td>\n",
       "      <td>0</td>\n",
       "      <td>0</td>\n",
       "      <td>0</td>\n",
       "    </tr>\n",
       "  </tbody>\n",
       "</table>\n",
       "<p>2 rows × 150 columns</p>\n",
       "</div>"
      ],
      "text/plain": [
       "   Rating  Reviews  Installs  Price     Size  Category_AUTO_AND_VEHICLES  \\\n",
       "0    4.10     5.08      9.21   0.00 19000.00                           0   \n",
       "1    3.90     6.88     13.12   0.00 14000.00                           0   \n",
       "\n",
       "   Category_BEAUTY  Category_BOOKS_AND_REFERENCE  Category_BUSINESS  \\\n",
       "0                0                             0                  0   \n",
       "1                0                             0                  0   \n",
       "\n",
       "   Category_COMICS  ...  Genres_Strategy;Education  Genres_Tools  \\\n",
       "0                0  ...                          0             0   \n",
       "1                0  ...                          0             0   \n",
       "\n",
       "   Genres_Travel & Local  Genres_Travel & Local;Action & Adventure  \\\n",
       "0                      0                                         0   \n",
       "1                      0                                         0   \n",
       "\n",
       "   Genres_Trivia  Genres_Video Players & Editors  \\\n",
       "0              0                               0   \n",
       "1              0                               0   \n",
       "\n",
       "   Genres_Video Players & Editors;Creativity  \\\n",
       "0                                          0   \n",
       "1                                          0   \n",
       "\n",
       "   Genres_Video Players & Editors;Music & Video  Genres_Weather  Genres_Word  \n",
       "0                                             0               0            0  \n",
       "1                                             0               0            0  \n",
       "\n",
       "[2 rows x 150 columns]"
      ]
     },
     "execution_count": 98,
     "metadata": {},
     "output_type": "execute_result"
    }
   ],
   "source": [
    "inp2=pd.get_dummies(inp1, columns = category_var, drop_first=True)\n",
    "inp2.head(2)"
   ]
  },
  {
   "cell_type": "markdown",
   "id": "b7ad03ab",
   "metadata": {},
   "source": [
    "# Model building "
   ]
  },
  {
   "cell_type": "markdown",
   "id": "b22ba700",
   "metadata": {},
   "source": [
    "**Using Linear Regression to predict an outcome for rating**"
   ]
  },
  {
   "cell_type": "code",
   "execution_count": 99,
   "id": "959a2fea",
   "metadata": {},
   "outputs": [
    {
     "data": {
      "text/html": [
       "<div>\n",
       "<style scoped>\n",
       "    .dataframe tbody tr th:only-of-type {\n",
       "        vertical-align: middle;\n",
       "    }\n",
       "\n",
       "    .dataframe tbody tr th {\n",
       "        vertical-align: top;\n",
       "    }\n",
       "\n",
       "    .dataframe thead th {\n",
       "        text-align: right;\n",
       "    }\n",
       "</style>\n",
       "<table border=\"1\" class=\"dataframe\">\n",
       "  <thead>\n",
       "    <tr style=\"text-align: right;\">\n",
       "      <th></th>\n",
       "      <th>Rating</th>\n",
       "      <th>Reviews</th>\n",
       "      <th>Installs</th>\n",
       "      <th>Price</th>\n",
       "      <th>Size</th>\n",
       "      <th>Category_AUTO_AND_VEHICLES</th>\n",
       "      <th>Category_BEAUTY</th>\n",
       "      <th>Category_BOOKS_AND_REFERENCE</th>\n",
       "      <th>Category_BUSINESS</th>\n",
       "      <th>Category_COMICS</th>\n",
       "      <th>...</th>\n",
       "      <th>Genres_Strategy;Education</th>\n",
       "      <th>Genres_Tools</th>\n",
       "      <th>Genres_Travel &amp; Local</th>\n",
       "      <th>Genres_Travel &amp; Local;Action &amp; Adventure</th>\n",
       "      <th>Genres_Trivia</th>\n",
       "      <th>Genres_Video Players &amp; Editors</th>\n",
       "      <th>Genres_Video Players &amp; Editors;Creativity</th>\n",
       "      <th>Genres_Video Players &amp; Editors;Music &amp; Video</th>\n",
       "      <th>Genres_Weather</th>\n",
       "      <th>Genres_Word</th>\n",
       "    </tr>\n",
       "  </thead>\n",
       "  <tbody>\n",
       "    <tr>\n",
       "      <th>0</th>\n",
       "      <td>4.10</td>\n",
       "      <td>5.08</td>\n",
       "      <td>9.21</td>\n",
       "      <td>0.00</td>\n",
       "      <td>19000.00</td>\n",
       "      <td>0</td>\n",
       "      <td>0</td>\n",
       "      <td>0</td>\n",
       "      <td>0</td>\n",
       "      <td>0</td>\n",
       "      <td>...</td>\n",
       "      <td>0</td>\n",
       "      <td>0</td>\n",
       "      <td>0</td>\n",
       "      <td>0</td>\n",
       "      <td>0</td>\n",
       "      <td>0</td>\n",
       "      <td>0</td>\n",
       "      <td>0</td>\n",
       "      <td>0</td>\n",
       "      <td>0</td>\n",
       "    </tr>\n",
       "    <tr>\n",
       "      <th>1</th>\n",
       "      <td>3.90</td>\n",
       "      <td>6.88</td>\n",
       "      <td>13.12</td>\n",
       "      <td>0.00</td>\n",
       "      <td>14000.00</td>\n",
       "      <td>0</td>\n",
       "      <td>0</td>\n",
       "      <td>0</td>\n",
       "      <td>0</td>\n",
       "      <td>0</td>\n",
       "      <td>...</td>\n",
       "      <td>0</td>\n",
       "      <td>0</td>\n",
       "      <td>0</td>\n",
       "      <td>0</td>\n",
       "      <td>0</td>\n",
       "      <td>0</td>\n",
       "      <td>0</td>\n",
       "      <td>0</td>\n",
       "      <td>0</td>\n",
       "      <td>0</td>\n",
       "    </tr>\n",
       "    <tr>\n",
       "      <th>2</th>\n",
       "      <td>4.70</td>\n",
       "      <td>11.38</td>\n",
       "      <td>15.42</td>\n",
       "      <td>0.00</td>\n",
       "      <td>8700.00</td>\n",
       "      <td>0</td>\n",
       "      <td>0</td>\n",
       "      <td>0</td>\n",
       "      <td>0</td>\n",
       "      <td>0</td>\n",
       "      <td>...</td>\n",
       "      <td>0</td>\n",
       "      <td>0</td>\n",
       "      <td>0</td>\n",
       "      <td>0</td>\n",
       "      <td>0</td>\n",
       "      <td>0</td>\n",
       "      <td>0</td>\n",
       "      <td>0</td>\n",
       "      <td>0</td>\n",
       "      <td>0</td>\n",
       "    </tr>\n",
       "    <tr>\n",
       "      <th>4</th>\n",
       "      <td>4.30</td>\n",
       "      <td>6.88</td>\n",
       "      <td>11.51</td>\n",
       "      <td>0.00</td>\n",
       "      <td>2800.00</td>\n",
       "      <td>0</td>\n",
       "      <td>0</td>\n",
       "      <td>0</td>\n",
       "      <td>0</td>\n",
       "      <td>0</td>\n",
       "      <td>...</td>\n",
       "      <td>0</td>\n",
       "      <td>0</td>\n",
       "      <td>0</td>\n",
       "      <td>0</td>\n",
       "      <td>0</td>\n",
       "      <td>0</td>\n",
       "      <td>0</td>\n",
       "      <td>0</td>\n",
       "      <td>0</td>\n",
       "      <td>0</td>\n",
       "    </tr>\n",
       "    <tr>\n",
       "      <th>5</th>\n",
       "      <td>4.40</td>\n",
       "      <td>5.12</td>\n",
       "      <td>10.82</td>\n",
       "      <td>0.00</td>\n",
       "      <td>5600.00</td>\n",
       "      <td>0</td>\n",
       "      <td>0</td>\n",
       "      <td>0</td>\n",
       "      <td>0</td>\n",
       "      <td>0</td>\n",
       "      <td>...</td>\n",
       "      <td>0</td>\n",
       "      <td>0</td>\n",
       "      <td>0</td>\n",
       "      <td>0</td>\n",
       "      <td>0</td>\n",
       "      <td>0</td>\n",
       "      <td>0</td>\n",
       "      <td>0</td>\n",
       "      <td>0</td>\n",
       "      <td>0</td>\n",
       "    </tr>\n",
       "  </tbody>\n",
       "</table>\n",
       "<p>5 rows × 150 columns</p>\n",
       "</div>"
      ],
      "text/plain": [
       "   Rating  Reviews  Installs  Price     Size  Category_AUTO_AND_VEHICLES  \\\n",
       "0    4.10     5.08      9.21   0.00 19000.00                           0   \n",
       "1    3.90     6.88     13.12   0.00 14000.00                           0   \n",
       "2    4.70    11.38     15.42   0.00  8700.00                           0   \n",
       "4    4.30     6.88     11.51   0.00  2800.00                           0   \n",
       "5    4.40     5.12     10.82   0.00  5600.00                           0   \n",
       "\n",
       "   Category_BEAUTY  Category_BOOKS_AND_REFERENCE  Category_BUSINESS  \\\n",
       "0                0                             0                  0   \n",
       "1                0                             0                  0   \n",
       "2                0                             0                  0   \n",
       "4                0                             0                  0   \n",
       "5                0                             0                  0   \n",
       "\n",
       "   Category_COMICS  ...  Genres_Strategy;Education  Genres_Tools  \\\n",
       "0                0  ...                          0             0   \n",
       "1                0  ...                          0             0   \n",
       "2                0  ...                          0             0   \n",
       "4                0  ...                          0             0   \n",
       "5                0  ...                          0             0   \n",
       "\n",
       "   Genres_Travel & Local  Genres_Travel & Local;Action & Adventure  \\\n",
       "0                      0                                         0   \n",
       "1                      0                                         0   \n",
       "2                      0                                         0   \n",
       "4                      0                                         0   \n",
       "5                      0                                         0   \n",
       "\n",
       "   Genres_Trivia  Genres_Video Players & Editors  \\\n",
       "0              0                               0   \n",
       "1              0                               0   \n",
       "2              0                               0   \n",
       "4              0                               0   \n",
       "5              0                               0   \n",
       "\n",
       "   Genres_Video Players & Editors;Creativity  \\\n",
       "0                                          0   \n",
       "1                                          0   \n",
       "2                                          0   \n",
       "4                                          0   \n",
       "5                                          0   \n",
       "\n",
       "   Genres_Video Players & Editors;Music & Video  Genres_Weather  Genres_Word  \n",
       "0                                             0               0            0  \n",
       "1                                             0               0            0  \n",
       "2                                             0               0            0  \n",
       "4                                             0               0            0  \n",
       "5                                             0               0            0  \n",
       "\n",
       "[5 rows x 150 columns]"
      ]
     },
     "execution_count": 99,
     "metadata": {},
     "output_type": "execute_result"
    }
   ],
   "source": [
    "inp2.head()"
   ]
  },
  {
   "cell_type": "code",
   "execution_count": 100,
   "id": "0b9908c8",
   "metadata": {},
   "outputs": [
    {
     "name": "stdout",
     "output_type": "stream",
     "text": [
      "Shape of X : (6489, 149)\n",
      "Shape of y : (6489,)\n"
     ]
    }
   ],
   "source": [
    "# spliting data from target\n",
    "X = inp2.drop(['Rating'], axis=1).values #data of independent var. Excludes the target, dependent variable, \"Rating\".\n",
    "y = inp2['Rating'].values                #independent variable data\n",
    "print ('Shape of X :', X.shape)\n",
    "print ('Shape of y :', y.shape)"
   ]
  },
  {
   "cell_type": "code",
   "execution_count": 101,
   "id": "b366cadb",
   "metadata": {},
   "outputs": [
    {
     "name": "stdout",
     "output_type": "stream",
     "text": [
      "[[ 5.07517382  9.21044037  0.         ...  0.          0.\n",
      "   0.        ]\n",
      " [ 6.87523209 13.12236538  0.         ...  0.          0.\n",
      "   0.        ]\n",
      " [11.37951978 15.42494867  0.         ...  0.          0.\n",
      "   0.        ]\n",
      " ...\n",
      " [ 2.07944154  6.2166061   0.         ...  0.          0.\n",
      "   0.        ]\n",
      " [ 3.66356165  8.51739317  0.         ...  0.          0.\n",
      "   0.        ]\n",
      " [ 1.60943791  4.61512052  0.         ...  0.          0.\n",
      "   0.        ]]\n"
     ]
    }
   ],
   "source": [
    "print(X)"
   ]
  },
  {
   "cell_type": "code",
   "execution_count": 102,
   "id": "92e8fa67",
   "metadata": {},
   "outputs": [
    {
     "name": "stdout",
     "output_type": "stream",
     "text": [
      "[4.1 3.9 4.7 ... 4.  4.5 5. ]\n"
     ]
    }
   ],
   "source": [
    "print(y)"
   ]
  },
  {
   "cell_type": "code",
   "execution_count": 103,
   "id": "943869bc",
   "metadata": {},
   "outputs": [],
   "source": [
    "#split training vs testing data\n",
    "X_train, X_test, y_train, y_test = train_test_split(X,y,test_size=0.3,random_state=20)"
   ]
  },
  {
   "cell_type": "code",
   "execution_count": 104,
   "id": "bda26549",
   "metadata": {},
   "outputs": [
    {
     "data": {
      "text/plain": [
       "LinearRegression()"
      ]
     },
     "execution_count": 104,
     "metadata": {},
     "output_type": "execute_result"
    }
   ],
   "source": [
    "# define and configure the model\n",
    "lm_model = LinearRegression()\n",
    "\n",
    "#train the model using training data; X contains the predictor features,y contains the target (predicted value)\n",
    "lm_model.fit(X_train, y_train)"
   ]
  },
  {
   "cell_type": "code",
   "execution_count": 105,
   "id": "2cfc44d4",
   "metadata": {},
   "outputs": [
    {
     "name": "stdout",
     "output_type": "stream",
     "text": [
      "[4.4 4.  4.  ... 3.8 3.7 4.5]\n"
     ]
    }
   ],
   "source": [
    "#predict a response (target outcome) to the X_test data\n",
    "y_pred = lm_model.predict(X_test)\n",
    "y_pred = y_pred.round(decimals=1)\n",
    "print(y_pred)"
   ]
  },
  {
   "cell_type": "markdown",
   "id": "54d65db8",
   "metadata": {},
   "source": [
    "**Compare Actual Rating vs. Predicted Rating**"
   ]
  },
  {
   "cell_type": "markdown",
   "id": "7c3c33a0",
   "metadata": {},
   "source": [
    "**Row 1 of inp2**"
   ]
  },
  {
   "cell_type": "code",
   "execution_count": 106,
   "id": "aa3f3d99",
   "metadata": {},
   "outputs": [],
   "source": [
    "row_1_x = inp2[:1]\n",
    "row_1_x = row_1_x.drop([\"Rating\"], axis=1)\n",
    "row_1_x = row_1_x.values"
   ]
  },
  {
   "cell_type": "code",
   "execution_count": 107,
   "id": "ac6fc4cd",
   "metadata": {},
   "outputs": [],
   "source": [
    "row_1_y = inp2[0:1]\n",
    "row_1_y = row_1_y.Rating.values"
   ]
  },
  {
   "cell_type": "code",
   "execution_count": 108,
   "id": "3140400a",
   "metadata": {},
   "outputs": [
    {
     "name": "stdout",
     "output_type": "stream",
     "text": [
      "Actual Rating for the 1st row in our dataframe inp2:  [4.1]\n",
      "Predicted Rating for the 1st row in our dataframe inp2:  [4.4]\n"
     ]
    }
   ],
   "source": [
    "#Using the X values from the 1st row of dataframe (inp2) we will compare the predicted value vs. the actual value\n",
    "Predicated_Value_row_1_x = lm_model.predict(row_1_x)\n",
    "\n",
    "print(\"Actual Rating for the 1st row in our dataframe inp2: \", row_1_y)\n",
    "print(\"Predicted Rating for the 1st row in our dataframe inp2: \", Predicated_Value_row_1_x.round(decimals=1))"
   ]
  },
  {
   "cell_type": "markdown",
   "id": "169fd59f",
   "metadata": {},
   "source": [
    "**Row 2 of inp2**"
   ]
  },
  {
   "cell_type": "code",
   "execution_count": 109,
   "id": "79d7261a",
   "metadata": {},
   "outputs": [],
   "source": [
    "row_2_x = inp2[1:2]\n",
    "row_2_x = row_2_x.drop([\"Rating\"], axis=1)\n",
    "row_2_x = row_2_x.values"
   ]
  },
  {
   "cell_type": "code",
   "execution_count": 110,
   "id": "d2f71a04",
   "metadata": {},
   "outputs": [],
   "source": [
    "row_2_y = inp2[1:2]\n",
    "row_2_y = row_2_y.Rating.values"
   ]
  },
  {
   "cell_type": "code",
   "execution_count": 111,
   "id": "243c131b",
   "metadata": {},
   "outputs": [
    {
     "name": "stdout",
     "output_type": "stream",
     "text": [
      "Actual Rating for the 2nd row in our dataframe inp2:  [3.9]\n",
      "Predicted Rating for the 2nd row in our dataframe inp2:  [3.9]\n"
     ]
    }
   ],
   "source": [
    "#Using the X values from the 1st row of dataframe (inp2) we will compare the predicted value vs. the actual value\n",
    "Predicated_Value_row_2_x = lm_model.predict(row_2_x)\n",
    "\n",
    "print(\"Actual Rating for the 2nd row in our dataframe inp2: \", row_2_y)\n",
    "print(\"Predicted Rating for the 2nd row in our dataframe inp2: \", Predicated_Value_row_2_x.round(decimals=1))"
   ]
  },
  {
   "cell_type": "markdown",
   "id": "22bd1aac",
   "metadata": {},
   "source": [
    "## Evaluate Model - R2 score"
   ]
  },
  {
   "cell_type": "code",
   "execution_count": 112,
   "id": "33d423f3",
   "metadata": {},
   "outputs": [
    {
     "name": "stdout",
     "output_type": "stream",
     "text": [
      "The prediction models r2 score is:  13.06\n"
     ]
    }
   ],
   "source": [
    "r2score = r2_score(y_test, y_pred)\n",
    "r2score =r2score*100\n",
    "print(\"The prediction models r2 score is: \", r2score.round(decimals=2))"
   ]
  },
  {
   "cell_type": "markdown",
   "id": "51ac8d47",
   "metadata": {},
   "source": [
    "**Observation:** Approximately 13.1% of the variation in Rating Score can be explained by the independent (\"predictor\") variables found in our data."
   ]
  },
  {
   "cell_type": "markdown",
   "id": "7a27add5",
   "metadata": {},
   "source": [
    "## Visualize Predicted Results"
   ]
  },
  {
   "cell_type": "code",
   "execution_count": 113,
   "id": "8425f315",
   "metadata": {},
   "outputs": [
    {
     "data": {
      "text/html": [
       "<div>\n",
       "<style scoped>\n",
       "    .dataframe tbody tr th:only-of-type {\n",
       "        vertical-align: middle;\n",
       "    }\n",
       "\n",
       "    .dataframe tbody tr th {\n",
       "        vertical-align: top;\n",
       "    }\n",
       "\n",
       "    .dataframe thead th {\n",
       "        text-align: right;\n",
       "    }\n",
       "</style>\n",
       "<table border=\"1\" class=\"dataframe\">\n",
       "  <thead>\n",
       "    <tr style=\"text-align: right;\">\n",
       "      <th></th>\n",
       "      <th>Actual Rating</th>\n",
       "      <th>Predicted Rating</th>\n",
       "      <th>Delta</th>\n",
       "    </tr>\n",
       "  </thead>\n",
       "  <tbody>\n",
       "    <tr>\n",
       "      <th>0</th>\n",
       "      <td>4.30</td>\n",
       "      <td>4.40</td>\n",
       "      <td>0.10</td>\n",
       "    </tr>\n",
       "    <tr>\n",
       "      <th>1</th>\n",
       "      <td>4.30</td>\n",
       "      <td>4.00</td>\n",
       "      <td>-0.30</td>\n",
       "    </tr>\n",
       "    <tr>\n",
       "      <th>2</th>\n",
       "      <td>3.10</td>\n",
       "      <td>4.00</td>\n",
       "      <td>0.90</td>\n",
       "    </tr>\n",
       "    <tr>\n",
       "      <th>3</th>\n",
       "      <td>3.30</td>\n",
       "      <td>3.90</td>\n",
       "      <td>0.60</td>\n",
       "    </tr>\n",
       "    <tr>\n",
       "      <th>4</th>\n",
       "      <td>4.20</td>\n",
       "      <td>4.00</td>\n",
       "      <td>-0.20</td>\n",
       "    </tr>\n",
       "  </tbody>\n",
       "</table>\n",
       "</div>"
      ],
      "text/plain": [
       "   Actual Rating  Predicted Rating  Delta\n",
       "0           4.30              4.40   0.10\n",
       "1           4.30              4.00  -0.30\n",
       "2           3.10              4.00   0.90\n",
       "3           3.30              3.90   0.60\n",
       "4           4.20              4.00  -0.20"
      ]
     },
     "execution_count": 113,
     "metadata": {},
     "output_type": "execute_result"
    }
   ],
   "source": [
    "pred_y_df = pd.DataFrame({\"Actual Rating\":y_test, \"Predicted Rating\":y_pred, \"Delta\":y_pred - y_test})\n",
    "pred_y_df.head(5)"
   ]
  },
  {
   "cell_type": "code",
   "execution_count": 114,
   "id": "5c4847d4",
   "metadata": {},
   "outputs": [
    {
     "data": {
      "image/png": "[encoded data removed]",
      "text/plain": [
       "<Figure size 1000x500 with 1 Axes>"
      ]
     },
     "metadata": {},
     "output_type": "display_data"
    }
   ],
   "source": [
    "plt.figure(figsize=(10,5))\n",
    "plt.scatter(y_test,y_pred, c=abs(y_pred-y_test), s = 75, alpha=.9)\n",
    "plt.xlabel(\"Actual\")\n",
    "plt.ylabel(\"Predicted\")\n",
    "plt.title(\"Actual vs. Predicted Ratings\")\n",
    "plt.axis(\"equal\")\n",
    "\n",
    "plt.show()"
   ]
  },
  {
   "cell_type": "markdown",
   "id": "0d6d4cfc",
   "metadata": {},
   "source": [
    "**Observations:** In the scatter plot above, the weaker (lighter) colors represent the Ratings which had the larger difference in Predicted Rating vs. Actual Rating.  We can note that Actual Ratings that were less than 3.0 were more likely to receive a higher predicted rating score when compared to the actual score. "
   ]
  }
 ],
 "metadata": {
  "kernelspec": {
   "display_name": "Python 3",
   "language": "python",
   "name": "python3"
  },
  "language_info": {
   "codemirror_mode": {
    "name": "ipython",
    "version": 3
   },
   "file_extension": ".py",
   "mimetype": "text/x-python",
   "name": "python",
   "nbconvert_exporter": "python",
   "pygments_lexer": "ipython3",
   "version": "3.8.8"
  },
  "toc": {
   "base_numbering": "1",
   "nav_menu": {},
   "number_sections": true,
   "sideBar": true,
   "skip_h1_title": false,
   "title_cell": "Table of Contents",
   "title_sidebar": "Contents",
   "toc_cell": false,
   "toc_position": {
    "height": "calc(100% - 180px)",
    "left": "10px",
    "top": "150px",
    "width": "207px"
   },
   "toc_section_display": false,
   "toc_window_display": false
  }
 },
 "nbformat": 4,
 "nbformat_minor": 5
}
